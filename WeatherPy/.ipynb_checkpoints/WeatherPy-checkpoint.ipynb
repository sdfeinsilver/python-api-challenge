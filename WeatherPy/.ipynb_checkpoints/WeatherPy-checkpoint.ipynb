{
 "cells": [
  {
   "cell_type": "markdown",
   "metadata": {},
   "source": [
    "# WeatherPy\n",
    "----\n",
    "\n",
    "#### Note\n",
    "* Instructions have been included for each segment. You do not have to follow them exactly, but they are included to help you think through the steps."
   ]
  },
  {
   "cell_type": "markdown",
   "metadata": {},
   "source": [
    "Observations\n",
    "1. Temperature is warmest at the Earth's equator, and stays relatively warm as you travel south.  However, as you travel north of the equator, temperature gets increasingly frigid.\n",
    "2. Humidity, Cloudiness, and Wind Speed seem to be relatively unaffected by latitude.  That is, the scatter plots show a high degree of randomization.  Wind Speed does seem to have some abnormally high outliers at the far northern latitudes.\n",
    "3. Weather conditions appear to have ahigher degree of predictability in the Northern Hemisphere as opposed to the Southern Hemisphere."
   ]
  },
  {
   "cell_type": "code",
   "execution_count": 1,
   "metadata": {
    "scrolled": true
   },
   "outputs": [],
   "source": [
    "# Dependencies and Setup\n",
    "import matplotlib.pyplot as plt\n",
    "import pandas as pd\n",
    "import numpy as np\n",
    "import requests\n",
    "import time\n",
    "from scipy.stats import linregress\n",
    "import json\n",
    "\n",
    "# Import API key\n",
    "from api_keys import weather_api_key\n",
    "\n",
    "# Incorporated citipy to determine city based on latitude and longitude\n",
    "from citipy import citipy\n",
    "\n",
    "# Output File (CSV)\n",
    "output_data_file = \"output_data/cities.csv\"\n",
    "\n",
    "# Range of latitudes and longitudes\n",
    "lat_range = (-90, 90)\n",
    "lng_range = (-180, 180)"
   ]
  },
  {
   "cell_type": "markdown",
   "metadata": {},
   "source": [
    "## Generate Cities List"
   ]
  },
  {
   "cell_type": "code",
   "execution_count": 2,
   "metadata": {},
   "outputs": [
    {
     "data": {
      "text/plain": [
       "604"
      ]
     },
     "execution_count": 2,
     "metadata": {},
     "output_type": "execute_result"
    }
   ],
   "source": [
    "# List for holding lat_lngs and cities\n",
    "lat_lngs = []\n",
    "cities = []\n",
    "\n",
    "# Create a set of random lat and lng combinations\n",
    "lats = np.random.uniform(lat_range[0], lat_range[1], size=1500)\n",
    "lngs = np.random.uniform(lng_range[0], lng_range[1], size=1500)\n",
    "lat_lngs = zip(lats, lngs)\n",
    "\n",
    "# Identify nearest city for each lat, lng combination\n",
    "for lat_lng in lat_lngs:\n",
    "    city = citipy.nearest_city(lat_lng[0], lat_lng[1]).city_name\n",
    "    \n",
    "    # If the city is unique, then add it to a our cities list\n",
    "    if city not in cities:\n",
    "        cities.append(city)\n",
    "\n",
    "# Print the city count to confirm sufficient count\n",
    "len(cities)"
   ]
  },
  {
   "cell_type": "markdown",
   "metadata": {},
   "source": [
    "### Perform API Calls\n",
    "* Perform a weather check on each city using a series of successive API calls.\n",
    "* Include a print log of each city as it'sbeing processed (with the city number and city name).\n"
   ]
  },
  {
   "cell_type": "code",
   "execution_count": 3,
   "metadata": {
    "scrolled": false
   },
   "outputs": [
    {
     "name": "stdout",
     "output_type": "stream",
     "text": [
      "Retrieving wittmund weather data\n",
      "Retrieving bluff weather data\n",
      "Retrieving qiongshan weather data\n",
      "Retrieving tura weather data\n",
      "Retrieving rikitea weather data\n",
      "City not found.  Skipping and going to next city.\n",
      "Retrieving myitkyina weather data\n",
      "Retrieving busselton weather data\n",
      "Retrieving cherskiy weather data\n",
      "Retrieving kingaroy weather data\n",
      "Retrieving fukue weather data\n",
      "Retrieving east london weather data\n",
      "Retrieving hobart weather data\n",
      "Retrieving ponta do sol weather data\n",
      "Retrieving lawrence weather data\n",
      "Retrieving san quintin weather data\n",
      "Retrieving salalah weather data\n",
      "Retrieving ostrovnoy weather data\n",
      "Retrieving clyde river weather data\n",
      "Retrieving cape town weather data\n",
      "Retrieving avarua weather data\n",
      "Retrieving upernavik weather data\n",
      "Retrieving chuy weather data\n",
      "Retrieving lorengau weather data\n",
      "Retrieving bandarbeyla weather data\n",
      "City not found.  Skipping and going to next city.\n",
      "Retrieving alta floresta weather data\n",
      "Retrieving youkounkoun weather data\n",
      "Retrieving castro weather data\n",
      "City not found.  Skipping and going to next city.\n",
      "Retrieving ushuaia weather data\n",
      "Retrieving faanui weather data\n",
      "Retrieving bud weather data\n",
      "City not found.  Skipping and going to next city.\n",
      "Retrieving tiarei weather data\n",
      "Retrieving mataura weather data\n",
      "Retrieving hilo weather data\n",
      "Retrieving batesville weather data\n",
      "Retrieving pangnirtung weather data\n",
      "Retrieving monster weather data\n",
      "Retrieving mae hong son weather data\n",
      "City not found.  Skipping and going to next city.\n",
      "Retrieving srednekolymsk weather data\n",
      "Retrieving port alfred weather data\n",
      "Retrieving dingle weather data\n",
      "City not found.  Skipping and going to next city.\n",
      "City not found.  Skipping and going to next city.\n",
      "Retrieving victoria weather data\n",
      "City not found.  Skipping and going to next city.\n",
      "Retrieving boden weather data\n",
      "Retrieving avera weather data\n",
      "Retrieving strezhevoy weather data\n",
      "Retrieving punta arenas weather data\n",
      "Retrieving birjand weather data\n",
      "Retrieving khandyga weather data\n",
      "Retrieving talnakh weather data\n",
      "Retrieving tambura weather data\n",
      "Retrieving saldanha weather data\n",
      "Retrieving bambous virieux weather data\n",
      "Retrieving pevek weather data\n",
      "City not found.  Skipping and going to next city.\n",
      "Retrieving vestmannaeyjar weather data\n",
      "Retrieving hobyo weather data\n",
      "Retrieving saint-pierre weather data\n",
      "Retrieving forrest city weather data\n",
      "Retrieving rawson weather data\n",
      "Retrieving gairo weather data\n",
      "Retrieving tuktoyaktuk weather data\n",
      "Retrieving aksha weather data\n",
      "Retrieving cabanas weather data\n",
      "Retrieving bredasdorp weather data\n",
      "Retrieving yining weather data\n",
      "Retrieving najran weather data\n",
      "Retrieving hermanus weather data\n",
      "Retrieving albany weather data\n",
      "Retrieving manzanillo weather data\n",
      "Retrieving udachnyy weather data\n",
      "Retrieving pisco weather data\n",
      "Retrieving kaitangata weather data\n",
      "Retrieving bandundu weather data\n",
      "Retrieving lagoa weather data\n",
      "Retrieving rabat weather data\n",
      "Retrieving mount gambier weather data\n",
      "Retrieving cockburn town weather data\n",
      "Retrieving isangel weather data\n",
      "Retrieving saskylakh weather data\n",
      "Retrieving yellowknife weather data\n",
      "Retrieving ayia galini weather data\n",
      "Retrieving kushikino weather data\n",
      "Retrieving airai weather data\n",
      "Retrieving olsztyn weather data\n",
      "Retrieving teya weather data\n",
      "Retrieving mildura weather data\n",
      "Retrieving mattru weather data\n",
      "Retrieving butaritari weather data\n",
      "Retrieving lasa weather data\n",
      "Retrieving mlonggo weather data\n",
      "Retrieving arlit weather data\n",
      "City not found.  Skipping and going to next city.\n",
      "Retrieving wanaka weather data\n",
      "Retrieving alappuzha weather data\n",
      "Retrieving dalmau weather data\n",
      "Retrieving puerto ayora weather data\n",
      "Retrieving trofors weather data\n",
      "Retrieving warwick weather data\n",
      "Retrieving chokurdakh weather data\n",
      "Retrieving sitka weather data\n",
      "Retrieving ivanivka weather data\n",
      "City not found.  Skipping and going to next city.\n",
      "Retrieving bitung weather data\n",
      "Retrieving longyearbyen weather data\n",
      "Retrieving nioro weather data\n",
      "Retrieving leningradskiy weather data\n",
      "Retrieving pontes e lacerda weather data\n",
      "Retrieving belomorsk weather data\n",
      "Retrieving la ronge weather data\n",
      "Retrieving padang weather data\n",
      "City not found.  Skipping and going to next city.\n",
      "Retrieving torbay weather data\n",
      "Retrieving port blair weather data\n",
      "Retrieving perry weather data\n",
      "Retrieving mujiayingzi weather data\n",
      "Retrieving atuona weather data\n",
      "Retrieving hasaki weather data\n",
      "Retrieving biak weather data\n",
      "City not found.  Skipping and going to next city.\n",
      "City not found.  Skipping and going to next city.\n",
      "Retrieving mauriti weather data\n",
      "City not found.  Skipping and going to next city.\n",
      "Retrieving qaanaaq weather data\n",
      "Retrieving verkh-usugli weather data\n",
      "Retrieving loandjili weather data\n",
      "Retrieving fort nelson weather data\n",
      "Retrieving verkhnevilyuysk weather data\n",
      "Retrieving namibe weather data\n",
      "Retrieving panjab weather data\n",
      "Retrieving gyongyospata weather data\n",
      "Retrieving zhigansk weather data\n",
      "Retrieving arraial do cabo weather data\n",
      "Retrieving garowe weather data\n",
      "Retrieving qinzhou weather data\n",
      "Retrieving nata weather data\n",
      "Retrieving shubarkuduk weather data\n",
      "Retrieving gigmoto weather data\n",
      "Retrieving ilulissat weather data\n",
      "Retrieving farafangana weather data\n",
      "Retrieving sola weather data\n",
      "Retrieving roald weather data\n",
      "Retrieving oytal weather data\n",
      "Retrieving dikson weather data\n",
      "Retrieving iznoski weather data\n",
      "Retrieving thompson weather data\n",
      "Retrieving comodoro rivadavia weather data\n",
      "City not found.  Skipping and going to next city.\n",
      "Retrieving vaini weather data\n",
      "Retrieving bathsheba weather data\n",
      "Retrieving manta weather data\n",
      "Retrieving ribeira grande weather data\n",
      "Retrieving constitucion weather data\n",
      "Retrieving severo-kurilsk weather data\n",
      "Retrieving charters towers weather data\n",
      "Retrieving brownwood weather data\n",
      "Retrieving chara weather data\n",
      "Retrieving souillac weather data\n",
      "Retrieving cabo san lucas weather data\n",
      "Retrieving borovoy weather data\n",
      "Retrieving luganville weather data\n",
      "Retrieving kampot weather data\n",
      "Retrieving lompoc weather data\n",
      "Retrieving saint-philippe weather data\n",
      "Retrieving ballymena weather data\n",
      "City not found.  Skipping and going to next city.\n",
      "Retrieving beringovskiy weather data\n",
      "Retrieving grand gaube weather data\n",
      "Retrieving vardo weather data\n",
      "Retrieving filadelfia weather data\n",
      "Retrieving codrington weather data\n",
      "Retrieving tasiilaq weather data\n",
      "Retrieving jamestown weather data\n",
      "Retrieving kez weather data\n",
      "City not found.  Skipping and going to next city.\n",
      "Retrieving agboville weather data\n",
      "Retrieving pauini weather data\n",
      "Retrieving ierapetra weather data\n",
      "Retrieving provideniya weather data\n",
      "Retrieving ahipara weather data\n",
      "Retrieving kempsey weather data\n",
      "Retrieving esperance weather data\n",
      "Retrieving punta alta weather data\n",
      "Retrieving sao joao da barra weather data\n",
      "Retrieving atar weather data\n",
      "Retrieving tougue weather data\n",
      "Retrieving mayumba weather data\n",
      "Retrieving barrow weather data\n",
      "Retrieving avila weather data\n",
      "Retrieving honningsvag weather data\n",
      "City not found.  Skipping and going to next city.\n",
      "City not found.  Skipping and going to next city.\n",
      "Retrieving santa elena weather data\n",
      "Retrieving vila velha weather data\n",
      "Retrieving aklavik weather data\n",
      "Retrieving saint-joseph weather data\n",
      "Retrieving nizwa weather data\n",
      "Retrieving skibbereen weather data\n",
      "Retrieving georgetown weather data\n",
      "City not found.  Skipping and going to next city.\n",
      "Retrieving netivot weather data\n",
      "Retrieving namatanai weather data\n",
      "Retrieving nikolskoye weather data\n",
      "Retrieving sungaipenuh weather data\n",
      "Retrieving guerrero negro weather data\n",
      "Retrieving maningrida weather data\n",
      "Retrieving te anau weather data\n",
      "Retrieving hualmay weather data\n",
      "Retrieving puqi weather data\n",
      "Retrieving semnan weather data\n",
      "Retrieving saint george weather data\n",
      "Retrieving korla weather data\n",
      "Retrieving shakawe weather data\n",
      "Retrieving grindavik weather data\n",
      "Retrieving maragogi weather data\n",
      "Retrieving vao weather data\n",
      "Retrieving abnub weather data\n",
      "Retrieving touros weather data\n",
      "Retrieving samarai weather data\n",
      "Retrieving kodiak weather data\n",
      "Retrieving port elizabeth weather data\n",
      "Retrieving anadyr weather data\n",
      "Retrieving de-kastri weather data\n",
      "Retrieving solwezi weather data\n",
      "Retrieving antofagasta weather data\n",
      "Retrieving portland weather data\n",
      "Retrieving tessalit weather data\n",
      "Retrieving buala weather data\n",
      "Retrieving hambantota weather data\n",
      "Retrieving hervey bay weather data\n",
      "Retrieving neyshabur weather data\n"
     ]
    },
    {
     "name": "stdout",
     "output_type": "stream",
     "text": [
      "Retrieving olafsvik weather data\n",
      "Retrieving mitsamiouli weather data\n",
      "Retrieving wonthaggi weather data\n",
      "Retrieving quchan weather data\n",
      "Retrieving westport weather data\n",
      "Retrieving kavieng weather data\n",
      "Retrieving geraldton weather data\n",
      "City not found.  Skipping and going to next city.\n",
      "Retrieving lazaro cardenas weather data\n",
      "Retrieving esmeralda weather data\n",
      "Retrieving iqaluit weather data\n",
      "Retrieving pasighat weather data\n",
      "Retrieving muroto weather data\n",
      "Retrieving bourail weather data\n",
      "Retrieving margate weather data\n",
      "Retrieving mahibadhoo weather data\n",
      "Retrieving nichinan weather data\n",
      "Retrieving tuatapere weather data\n",
      "Retrieving kletskaya weather data\n",
      "Retrieving new norfolk weather data\n",
      "Retrieving new glasgow weather data\n",
      "Retrieving babati weather data\n",
      "Retrieving hit weather data\n",
      "Retrieving hirara weather data\n",
      "Retrieving roura weather data\n",
      "Retrieving carnarvon weather data\n",
      "Retrieving taoudenni weather data\n",
      "Retrieving aktau weather data\n",
      "Retrieving khatanga weather data\n",
      "Retrieving cienfuegos weather data\n",
      "Retrieving waipawa weather data\n",
      "Retrieving boa vista weather data\n",
      "Retrieving monrovia weather data\n",
      "Retrieving puerto escondido weather data\n",
      "Retrieving huilong weather data\n",
      "Retrieving alofi weather data\n",
      "Retrieving suntar weather data\n",
      "Retrieving hithadhoo weather data\n",
      "Retrieving lebu weather data\n",
      "Retrieving burgeo weather data\n",
      "Retrieving kruisfontein weather data\n",
      "Retrieving port hardy weather data\n",
      "City not found.  Skipping and going to next city.\n",
      "Retrieving praia weather data\n",
      "Retrieving axim weather data\n",
      "Retrieving chicama weather data\n",
      "Retrieving tokmak weather data\n",
      "Retrieving byron bay weather data\n",
      "Retrieving terra santa weather data\n",
      "Retrieving sioux lookout weather data\n",
      "City not found.  Skipping and going to next city.\n",
      "Retrieving meulaboh weather data\n",
      "Retrieving tiksi weather data\n",
      "Retrieving kununurra weather data\n",
      "Retrieving road town weather data\n",
      "Retrieving katsuura weather data\n",
      "Retrieving mehamn weather data\n",
      "Retrieving marystown weather data\n",
      "Retrieving juli weather data\n",
      "Retrieving songea weather data\n",
      "Retrieving port lincoln weather data\n",
      "Retrieving acapulco weather data\n",
      "Retrieving kapaa weather data\n",
      "City not found.  Skipping and going to next city.\n",
      "Retrieving husavik weather data\n",
      "Retrieving saint-augustin weather data\n",
      "Retrieving mount isa weather data\n",
      "City not found.  Skipping and going to next city.\n",
      "Retrieving doha weather data\n",
      "City not found.  Skipping and going to next city.\n",
      "Retrieving bria weather data\n",
      "Retrieving mikuni weather data\n",
      "City not found.  Skipping and going to next city.\n",
      "Retrieving sloboda weather data\n",
      "Retrieving jabinyanah weather data\n",
      "Retrieving baykit weather data\n",
      "City not found.  Skipping and going to next city.\n",
      "Retrieving petropavlovsk-kamchatskiy weather data\n",
      "Retrieving cumana weather data\n",
      "Retrieving verkhnechusovskiye gorodki weather data\n",
      "Retrieving kiama weather data\n",
      "Retrieving vallenar weather data\n",
      "City not found.  Skipping and going to next city.\n",
      "Retrieving san patricio weather data\n",
      "City not found.  Skipping and going to next city.\n",
      "Retrieving rio grande weather data\n",
      "Retrieving puteyets weather data\n",
      "Retrieving diego de almagro weather data\n",
      "Retrieving ekhabi weather data\n",
      "Retrieving hofn weather data\n",
      "Retrieving chumikan weather data\n",
      "Retrieving yantal weather data\n",
      "Retrieving bouna weather data\n",
      "Retrieving cidreira weather data\n",
      "Retrieving tezpur weather data\n",
      "Retrieving haines junction weather data\n",
      "Retrieving asau weather data\n",
      "Retrieving seoul weather data\n",
      "Retrieving guaimaro weather data\n",
      "Retrieving rive-de-gier weather data\n",
      "City not found.  Skipping and going to next city.\n",
      "Retrieving broken hill weather data\n",
      "Retrieving jacqueville weather data\n",
      "City not found.  Skipping and going to next city.\n",
      "Retrieving sept-iles weather data\n",
      "Retrieving ixtapa weather data\n",
      "Retrieving saint anthony weather data\n",
      "Retrieving valley city weather data\n",
      "City not found.  Skipping and going to next city.\n",
      "Retrieving san cristobal weather data\n",
      "Retrieving moshupa weather data\n",
      "Retrieving san carlos de bariloche weather data\n",
      "Retrieving los negros weather data\n",
      "Retrieving garwolin weather data\n",
      "Retrieving bac lieu weather data\n",
      "Retrieving horizontina weather data\n",
      "Retrieving mbini weather data\n",
      "Retrieving sokoto weather data\n",
      "City not found.  Skipping and going to next city.\n",
      "Retrieving egvekinot weather data\n",
      "City not found.  Skipping and going to next city.\n",
      "Retrieving necochea weather data\n",
      "Retrieving sasso marconi weather data\n",
      "Retrieving ketchikan weather data\n",
      "Retrieving jackson weather data\n",
      "Retrieving banjar weather data\n",
      "Retrieving concarneau weather data\n",
      "Retrieving muravlenko weather data\n",
      "City not found.  Skipping and going to next city.\n",
      "Retrieving mulchen weather data\n",
      "Retrieving lata weather data\n",
      "Retrieving esso weather data\n",
      "Retrieving alta weather data\n",
      "City not found.  Skipping and going to next city.\n",
      "Retrieving chernogorsk weather data\n",
      "Retrieving pamanukan weather data\n",
      "City not found.  Skipping and going to next city.\n",
      "Retrieving mahebourg weather data\n",
      "Retrieving klaksvik weather data\n",
      "Retrieving ontario weather data\n",
      "Retrieving santo angelo weather data\n",
      "City not found.  Skipping and going to next city.\n",
      "Retrieving bethel weather data\n",
      "Retrieving cedar city weather data\n",
      "Retrieving vendas novas weather data\n",
      "Retrieving bengkulu weather data\n",
      "Retrieving mar del plata weather data\n",
      "Retrieving mangrol weather data\n",
      "City not found.  Skipping and going to next city.\n",
      "Retrieving muisne weather data\n",
      "Retrieving warri weather data\n",
      "Retrieving kudahuvadhoo weather data\n",
      "Retrieving barcelos weather data\n",
      "Retrieving nalut weather data\n",
      "Retrieving troitsko-pechorsk weather data\n",
      "Retrieving shelburne weather data\n",
      "Retrieving kupang weather data\n",
      "Retrieving molina weather data\n",
      "Retrieving pratapgarh weather data\n",
      "Retrieving buraydah weather data\n",
      "Retrieving nanortalik weather data\n",
      "Retrieving bossangoa weather data\n",
      "Retrieving tigil weather data\n",
      "Retrieving kintinku weather data\n",
      "Retrieving huarmey weather data\n",
      "Retrieving gat weather data\n",
      "Retrieving ulaangom weather data\n",
      "Retrieving wilmington weather data\n",
      "Retrieving victor harbor weather data\n",
      "Retrieving chiang rai weather data\n",
      "Retrieving bilma weather data\n",
      "Retrieving caconda weather data\n",
      "Retrieving opuwo weather data\n",
      "Retrieving mineiros weather data\n",
      "Retrieving ambilobe weather data\n",
      "Retrieving laguna weather data\n",
      "Retrieving coari weather data\n",
      "Retrieving flinders weather data\n",
      "Retrieving roma weather data\n",
      "Retrieving zeya weather data\n",
      "Retrieving alice springs weather data\n",
      "Retrieving george weather data\n",
      "Retrieving goure weather data\n",
      "Retrieving saint joseph weather data\n",
      "Retrieving bardiyah weather data\n",
      "Retrieving kieta weather data\n",
      "Retrieving ternate weather data\n",
      "Retrieving somerset east weather data\n",
      "Retrieving warmbad weather data\n",
      "Retrieving fortuna weather data\n",
      "Retrieving visnes weather data\n",
      "Retrieving berlevag weather data\n",
      "Retrieving sayansk weather data\n",
      "Retrieving urusha weather data\n",
      "Retrieving menongue weather data\n",
      "Retrieving narsaq weather data\n",
      "City not found.  Skipping and going to next city.\n",
      "Retrieving sao filipe weather data\n",
      "Retrieving hami weather data\n",
      "Retrieving chingirlau weather data\n",
      "City not found.  Skipping and going to next city.\n",
      "Retrieving les escoumins weather data\n",
      "Retrieving tazovskiy weather data\n",
      "Retrieving jalu weather data\n",
      "Retrieving keti bandar weather data\n",
      "Retrieving yumen weather data\n",
      "Retrieving shizuishan weather data\n",
      "Retrieving ahuimanu weather data\n",
      "Retrieving itarema weather data\n",
      "Retrieving trinidad weather data\n",
      "City not found.  Skipping and going to next city.\n",
      "Retrieving suluq weather data\n",
      "Retrieving catumbela weather data\n",
      "Retrieving vanavara weather data\n",
      "Retrieving terney weather data\n",
      "Retrieving whitehorse weather data\n",
      "City not found.  Skipping and going to next city.\n",
      "Retrieving fairbanks weather data\n",
      "Retrieving leek weather data\n",
      "Retrieving gorontalo weather data\n",
      "City not found.  Skipping and going to next city.\n",
      "Retrieving idrinskoye weather data\n",
      "Retrieving karasjok weather data\n",
      "Retrieving yar-sale weather data\n",
      "Retrieving santa isabel do rio negro weather data\n",
      "Retrieving varhaug weather data\n",
      "Retrieving kasongo-lunda weather data\n",
      "Retrieving teguise weather data\n",
      "City not found.  Skipping and going to next city.\n",
      "Retrieving cuenca weather data\n",
      "Retrieving coquimbo weather data\n",
      "Retrieving lulea weather data\n",
      "Retrieving khani weather data\n"
     ]
    },
    {
     "name": "stdout",
     "output_type": "stream",
     "text": [
      "Retrieving ust-nera weather data\n",
      "Retrieving umm lajj weather data\n",
      "Retrieving mama weather data\n",
      "Retrieving nishihara weather data\n",
      "Retrieving bolitoc weather data\n",
      "Retrieving kenai weather data\n",
      "Retrieving phetchaburi weather data\n",
      "City not found.  Skipping and going to next city.\n",
      "Retrieving bondo weather data\n",
      "Retrieving rock sound weather data\n",
      "Retrieving toamasina weather data\n",
      "Retrieving poum weather data\n",
      "Retrieving canala weather data\n",
      "Retrieving chapais weather data\n",
      "Retrieving bilibino weather data\n",
      "Retrieving daru weather data\n",
      "Retrieving shurugwi weather data\n",
      "Retrieving maniitsoq weather data\n",
      "Retrieving channel-port aux basques weather data\n",
      "Retrieving vostok weather data\n",
      "Retrieving callaway weather data\n",
      "Retrieving rotenburg weather data\n",
      "Retrieving mayo weather data\n",
      "Retrieving bonavista weather data\n",
      "Retrieving naze weather data\n",
      "Retrieving lishui weather data\n",
      "City not found.  Skipping and going to next city.\n",
      "Retrieving tsiroanomandidy weather data\n",
      "Retrieving ewa beach weather data\n",
      "Retrieving ouesso weather data\n",
      "Retrieving esmeraldas weather data\n",
      "Retrieving broome weather data\n",
      "Retrieving peniche weather data\n",
      "Retrieving raudeberg weather data\n",
      "Retrieving rosario weather data\n",
      "Retrieving gamba weather data\n",
      "Retrieving mpulungu weather data\n",
      "Retrieving ouro preto do oeste weather data\n",
      "Retrieving bauchi weather data\n",
      "Retrieving abaza weather data\n",
      "Retrieving oksfjord weather data\n",
      "Retrieving santhia weather data\n",
      "Retrieving woodward weather data\n",
      "Retrieving santarem weather data\n",
      "Retrieving tocopilla weather data\n",
      "Retrieving navlya weather data\n",
      "Retrieving soligalich weather data\n",
      "City not found.  Skipping and going to next city.\n",
      "Retrieving nome weather data\n",
      "Retrieving the valley weather data\n",
      "Retrieving linxia weather data\n",
      "Retrieving traian weather data\n",
      "Retrieving koumac weather data\n",
      "City not found.  Skipping and going to next city.\n",
      "Retrieving jutai weather data\n",
      "Retrieving kourou weather data\n",
      "Retrieving misratah weather data\n",
      "Retrieving gorin weather data\n",
      "Retrieving half moon bay weather data\n",
      "Retrieving huambo weather data\n",
      "Retrieving puerto colombia weather data\n",
      "Retrieving peta weather data\n",
      "Retrieving shache weather data\n",
      "Retrieving ryotsu weather data\n",
      "Retrieving oranjemund weather data\n",
      "Retrieving vlore weather data\n",
      "Retrieving yulara weather data\n",
      "Retrieving megion weather data\n",
      "Retrieving martapura weather data\n",
      "Retrieving balikpapan weather data\n",
      "Retrieving fare weather data\n",
      "Retrieving nisia floresta weather data\n",
      "Retrieving betare oya weather data\n",
      "Retrieving ilovlya weather data\n",
      "Retrieving nyanza weather data\n",
      "Retrieving jaguarari weather data\n",
      "Retrieving belyy yar weather data\n",
      "Retrieving zirgan weather data\n",
      "Retrieving anchorage weather data\n",
      "Retrieving norrtalje weather data\n",
      "Retrieving semey weather data\n",
      "Retrieving sambava weather data\n",
      "Retrieving gdov weather data\n",
      "City not found.  Skipping and going to next city.\n",
      "Retrieving port augusta weather data\n",
      "Retrieving ploemeur weather data\n",
      "Retrieving caravelas weather data\n",
      "Retrieving nouadhibou weather data\n",
      "City not found.  Skipping and going to next city.\n",
      "Retrieving miraflores weather data\n",
      "Retrieving tumbagaan weather data\n",
      "Retrieving riga weather data\n",
      "Retrieving san fernando weather data\n",
      "Retrieving oktyabrskiy weather data\n",
      "Retrieving karratha weather data\n",
      "City not found.  Skipping and going to next city.\n",
      "Retrieving adrar weather data\n",
      "Retrieving shiyan weather data\n",
      "City not found.  Skipping and going to next city.\n",
      "Retrieving mokobeng weather data\n",
      "Retrieving santa luzia weather data\n",
      "Retrieving umm kaddadah weather data\n",
      "Retrieving amapa weather data\n",
      "Retrieving fort saint james weather data\n",
      "Retrieving aksay weather data\n",
      "Retrieving trairi weather data\n",
      "Retrieving point pedro weather data\n",
      "Retrieving kavaratti weather data\n",
      "Retrieving kensington weather data\n",
      "Retrieving vanimo weather data\n",
      "Retrieving cadillac weather data\n",
      "Retrieving shimoda weather data\n",
      "Retrieving inhambane weather data\n",
      "Retrieving awjilah weather data\n",
      "Retrieving bereda weather data\n",
      "Retrieving shemonaikha weather data\n",
      "Retrieving avanigadda weather data\n",
      "Retrieving kisangani weather data\n",
      "Retrieving paamiut weather data\n",
      "Retrieving komsomolskiy weather data\n",
      "Retrieving guarapari weather data\n",
      "Retrieving asyut weather data\n",
      "Retrieving trincomalee weather data\n",
      "Retrieving morgan city weather data\n",
      "Retrieving cisarua weather data\n",
      "Retrieving juneau weather data\n",
      "Retrieving herat weather data\n",
      "Retrieving tancheng weather data\n",
      "Retrieving cayenne weather data\n",
      "Retrieving rayagada weather data\n",
      "Retrieving kathu weather data\n",
      "Retrieving soyo weather data\n",
      "Retrieving sile weather data\n",
      "Retrieving ganzhou weather data\n"
     ]
    }
   ],
   "source": [
    "#Request Weather Data on each city in list cities\n",
    "base_url = \"http://api.openweathermap.org/data/2.5/weather?units=Imperial&appid=\"\n",
    "city_name = []\n",
    "city_lat = []\n",
    "city_lon = []\n",
    "city_temp = []\n",
    "city_humidity = []\n",
    "city_wind_speed = []\n",
    "city_cloudiness = []\n",
    "\n",
    "#Use try/except code to skip broken url's\n",
    "\n",
    "for city in cities:\n",
    "    try:\n",
    "        query_url = base_url + weather_api_key + \"&q=\" + city\n",
    "        weather_response = requests.get(query_url).json()\n",
    "        city_name.append(weather_response[\"name\"])\n",
    "        city_lat.append(weather_response[\"coord\"][\"lat\"])\n",
    "        city_lon.append(weather_response[\"coord\"][\"lon\"])\n",
    "        city_temp.append(weather_response[\"main\"][\"temp\"])\n",
    "        city_humidity.append(weather_response[\"main\"][\"humidity\"])\n",
    "        city_wind_speed.append(weather_response[\"wind\"][\"speed\"])\n",
    "        city_cloudiness.append(weather_response[\"clouds\"][\"all\"])\n",
    "        print(f\"Retrieving {city} weather data\")\n",
    "    except:\n",
    "        print(f\"City not found.  Skipping and going to next city.\")\n",
    "    pass\n",
    "\n",
    "    \n",
    "\n"
   ]
  },
  {
   "cell_type": "markdown",
   "metadata": {},
   "source": [
    "### Convert Raw Data to DataFrame\n",
    "* Export the city data into a .csv.\n",
    "* Display the DataFrame"
   ]
  },
  {
   "cell_type": "code",
   "execution_count": 4,
   "metadata": {},
   "outputs": [],
   "source": [
    "#Convert City Weather Data into Dictionary\n",
    "city_dict = {\n",
    "    \"City Name\": city_name,\n",
    "    \"Latitude\": city_lat,\n",
    "    \"Longitude\": city_lon,\n",
    "    \"Temperature\": city_temp,\n",
    "    \"Humidity\": city_humidity,\n",
    "    \"Wind Speed\": city_wind_speed,\n",
    "    \"Cloudiness\": city_cloudiness\n",
    "            }"
   ]
  },
  {
   "cell_type": "code",
   "execution_count": 5,
   "metadata": {},
   "outputs": [
    {
     "data": {
      "text/html": [
       "<div>\n",
       "<style scoped>\n",
       "    .dataframe tbody tr th:only-of-type {\n",
       "        vertical-align: middle;\n",
       "    }\n",
       "\n",
       "    .dataframe tbody tr th {\n",
       "        vertical-align: top;\n",
       "    }\n",
       "\n",
       "    .dataframe thead th {\n",
       "        text-align: right;\n",
       "    }\n",
       "</style>\n",
       "<table border=\"1\" class=\"dataframe\">\n",
       "  <thead>\n",
       "    <tr style=\"text-align: right;\">\n",
       "      <th></th>\n",
       "      <th>City Name</th>\n",
       "      <th>Latitude</th>\n",
       "      <th>Longitude</th>\n",
       "      <th>Temperature</th>\n",
       "      <th>Humidity</th>\n",
       "      <th>Wind Speed</th>\n",
       "      <th>Cloudiness</th>\n",
       "    </tr>\n",
       "  </thead>\n",
       "  <tbody>\n",
       "    <tr>\n",
       "      <th>0</th>\n",
       "      <td>Wittmund</td>\n",
       "      <td>53.57</td>\n",
       "      <td>7.78</td>\n",
       "      <td>43.59</td>\n",
       "      <td>93</td>\n",
       "      <td>5.82</td>\n",
       "      <td>75</td>\n",
       "    </tr>\n",
       "    <tr>\n",
       "      <th>1</th>\n",
       "      <td>Bluff</td>\n",
       "      <td>-46.60</td>\n",
       "      <td>168.33</td>\n",
       "      <td>50.00</td>\n",
       "      <td>93</td>\n",
       "      <td>8.81</td>\n",
       "      <td>48</td>\n",
       "    </tr>\n",
       "    <tr>\n",
       "      <th>2</th>\n",
       "      <td>Qiongshan</td>\n",
       "      <td>20.01</td>\n",
       "      <td>110.35</td>\n",
       "      <td>62.60</td>\n",
       "      <td>93</td>\n",
       "      <td>8.95</td>\n",
       "      <td>90</td>\n",
       "    </tr>\n",
       "    <tr>\n",
       "      <th>3</th>\n",
       "      <td>Tura</td>\n",
       "      <td>25.52</td>\n",
       "      <td>90.22</td>\n",
       "      <td>59.02</td>\n",
       "      <td>54</td>\n",
       "      <td>1.72</td>\n",
       "      <td>0</td>\n",
       "    </tr>\n",
       "    <tr>\n",
       "      <th>4</th>\n",
       "      <td>Rikitea</td>\n",
       "      <td>-23.12</td>\n",
       "      <td>-134.97</td>\n",
       "      <td>77.38</td>\n",
       "      <td>71</td>\n",
       "      <td>9.33</td>\n",
       "      <td>0</td>\n",
       "    </tr>\n",
       "  </tbody>\n",
       "</table>\n",
       "</div>"
      ],
      "text/plain": [
       "   City Name  Latitude  Longitude  Temperature  Humidity  Wind Speed  \\\n",
       "0   Wittmund     53.57       7.78        43.59        93        5.82   \n",
       "1      Bluff    -46.60     168.33        50.00        93        8.81   \n",
       "2  Qiongshan     20.01     110.35        62.60        93        8.95   \n",
       "3       Tura     25.52      90.22        59.02        54        1.72   \n",
       "4    Rikitea    -23.12    -134.97        77.38        71        9.33   \n",
       "\n",
       "   Cloudiness  \n",
       "0          75  \n",
       "1          48  \n",
       "2          90  \n",
       "3           0  \n",
       "4           0  "
      ]
     },
     "execution_count": 5,
     "metadata": {},
     "output_type": "execute_result"
    }
   ],
   "source": [
    "#Convert City Dictionary into a Dataframe\n",
    "city_df = pd.DataFrame(city_dict)\n",
    "city_df.head()"
   ]
  },
  {
   "cell_type": "code",
   "execution_count": 6,
   "metadata": {},
   "outputs": [],
   "source": [
    "#Save City Dataframe as a CSV File in output_data directory\n",
    "city_df.to_csv(\"output_data/cities.csv\")"
   ]
  },
  {
   "cell_type": "markdown",
   "metadata": {},
   "source": [
    "## Inspect the data and remove the cities where the humidity > 100%.\n",
    "----\n",
    "Skip this step if there are no cities that have humidity > 100%. "
   ]
  },
  {
   "cell_type": "code",
   "execution_count": 7,
   "metadata": {},
   "outputs": [
    {
     "data": {
      "text/plain": [
       "0"
      ]
     },
     "execution_count": 7,
     "metadata": {},
     "output_type": "execute_result"
    }
   ],
   "source": [
    "#  Check for cities with Humidity over 100%\n",
    "humid_check_df = city_df[city_df[\"Humidity\"] > 100]\n",
    "len(humid_check_df)"
   ]
  },
  {
   "cell_type": "markdown",
   "metadata": {},
   "source": [
    "## Plotting the Data\n",
    "* Use proper labeling of the plots using plot titles (including date of analysis) and axes labels.\n",
    "* Save the plotted figures as .pngs."
   ]
  },
  {
   "cell_type": "markdown",
   "metadata": {},
   "source": [
    "## Latitude vs. Temperature Plot"
   ]
  },
  {
   "cell_type": "code",
   "execution_count": 9,
   "metadata": {
    "scrolled": true
   },
   "outputs": [
    {
     "data": {
      "image/png": "[encoded data removed]",
      "text/plain": [
       "<Figure size 432x288 with 1 Axes>"
      ]
     },
     "metadata": {
      "needs_background": "light"
     },
     "output_type": "display_data"
    }
   ],
   "source": [
    "#Plot City Latitude vs. City Temperature and Save as PNG File\n",
    "plt.scatter(city_df[\"Latitude\"], city_df[\"Temperature\"], marker = \"o\")\n",
    "plt.xlabel(\"Latitude\")\n",
    "plt.ylabel(\"Temperature\")\n",
    "plt.savefig(\"output_data/latitude_temperature.png\")\n",
    "plt.show()"
   ]
  },
  {
   "cell_type": "code",
   "execution_count": 11,
   "metadata": {},
   "outputs": [
    {
     "data": {
      "image/png": "[encoded data removed]",
      "text/plain": [
       "<Figure size 432x288 with 1 Axes>"
      ]
     },
     "metadata": {
      "needs_background": "light"
     },
     "output_type": "display_data"
    }
   ],
   "source": [
    "#Plot City Latitude vs. City Humidity and save as PNG File\n",
    "plt.scatter(city_df[\"Latitude\"], city_df[\"Humidity\"], marker = \"o\")\n",
    "plt.xlabel(\"Latitiude\")\n",
    "plt.ylabel(\"Humidity\")\n",
    "plt.savefig(\"output_data/latitude_humidity.png\")\n",
    "plt.show()"
   ]
  },
  {
   "cell_type": "code",
   "execution_count": 13,
   "metadata": {},
   "outputs": [
    {
     "data": {
      "image/png": "[encoded data removed]",
      "text/plain": [
       "<Figure size 432x288 with 1 Axes>"
      ]
     },
     "metadata": {
      "needs_background": "light"
     },
     "output_type": "display_data"
    }
   ],
   "source": [
    "#Plot City Latitude vs. City Cloudiness and save as PNG File\n",
    "plt.scatter(city_df[\"Latitude\"], city_df[\"Cloudiness\"], marker = \"o\")\n",
    "plt.xlabel(\"Latitude\")\n",
    "plt.ylabel(\"Cloudiness\")\n",
    "plt.savefig(\"output_data/latitude_cloudiness.png\")\n",
    "plt.show()"
   ]
  },
  {
   "cell_type": "code",
   "execution_count": 15,
   "metadata": {
    "scrolled": false
   },
   "outputs": [
    {
     "data": {
      "image/png": "[encoded data removed]",
      "text/plain": [
       "<Figure size 432x288 with 1 Axes>"
      ]
     },
     "metadata": {
      "needs_background": "light"
     },
     "output_type": "display_data"
    }
   ],
   "source": [
    "#Plot City Latitude vs. City Windspeed and save as PNG File\n",
    "plt.scatter(city_df[\"Latitude\"], city_df[\"Wind Speed\"], marker = \"o\")\n",
    "plt.xlabel(\"Latitude\")\n",
    "plt.ylabel(\"Wind Speed\")\n",
    "plt.savefig(\"output_data/latitude_windspeed.png\")\n",
    "plt.show()"
   ]
  },
  {
   "cell_type": "markdown",
   "metadata": {},
   "source": [
    "Linear Regression"
   ]
  },
  {
   "cell_type": "code",
   "execution_count": 16,
   "metadata": {},
   "outputs": [
    {
     "data": {
      "text/html": [
       "<div>\n",
       "<style scoped>\n",
       "    .dataframe tbody tr th:only-of-type {\n",
       "        vertical-align: middle;\n",
       "    }\n",
       "\n",
       "    .dataframe tbody tr th {\n",
       "        vertical-align: top;\n",
       "    }\n",
       "\n",
       "    .dataframe thead th {\n",
       "        text-align: right;\n",
       "    }\n",
       "</style>\n",
       "<table border=\"1\" class=\"dataframe\">\n",
       "  <thead>\n",
       "    <tr style=\"text-align: right;\">\n",
       "      <th></th>\n",
       "      <th>City Name</th>\n",
       "      <th>Latitude</th>\n",
       "      <th>Longitude</th>\n",
       "      <th>Temperature</th>\n",
       "      <th>Humidity</th>\n",
       "      <th>Wind Speed</th>\n",
       "      <th>Cloudiness</th>\n",
       "    </tr>\n",
       "  </thead>\n",
       "  <tbody>\n",
       "    <tr>\n",
       "      <th>0</th>\n",
       "      <td>Wittmund</td>\n",
       "      <td>53.57</td>\n",
       "      <td>7.78</td>\n",
       "      <td>43.59</td>\n",
       "      <td>93</td>\n",
       "      <td>5.82</td>\n",
       "      <td>75</td>\n",
       "    </tr>\n",
       "    <tr>\n",
       "      <th>2</th>\n",
       "      <td>Qiongshan</td>\n",
       "      <td>20.01</td>\n",
       "      <td>110.35</td>\n",
       "      <td>62.60</td>\n",
       "      <td>93</td>\n",
       "      <td>8.95</td>\n",
       "      <td>90</td>\n",
       "    </tr>\n",
       "    <tr>\n",
       "      <th>3</th>\n",
       "      <td>Tura</td>\n",
       "      <td>25.52</td>\n",
       "      <td>90.22</td>\n",
       "      <td>59.02</td>\n",
       "      <td>54</td>\n",
       "      <td>1.72</td>\n",
       "      <td>0</td>\n",
       "    </tr>\n",
       "    <tr>\n",
       "      <th>5</th>\n",
       "      <td>Myitkyina</td>\n",
       "      <td>25.38</td>\n",
       "      <td>97.40</td>\n",
       "      <td>58.91</td>\n",
       "      <td>73</td>\n",
       "      <td>2.59</td>\n",
       "      <td>0</td>\n",
       "    </tr>\n",
       "    <tr>\n",
       "      <th>7</th>\n",
       "      <td>Cherskiy</td>\n",
       "      <td>68.75</td>\n",
       "      <td>161.30</td>\n",
       "      <td>-22.22</td>\n",
       "      <td>87</td>\n",
       "      <td>2.95</td>\n",
       "      <td>98</td>\n",
       "    </tr>\n",
       "  </tbody>\n",
       "</table>\n",
       "</div>"
      ],
      "text/plain": [
       "   City Name  Latitude  Longitude  Temperature  Humidity  Wind Speed  \\\n",
       "0   Wittmund     53.57       7.78        43.59        93        5.82   \n",
       "2  Qiongshan     20.01     110.35        62.60        93        8.95   \n",
       "3       Tura     25.52      90.22        59.02        54        1.72   \n",
       "5  Myitkyina     25.38      97.40        58.91        73        2.59   \n",
       "7   Cherskiy     68.75     161.30       -22.22        87        2.95   \n",
       "\n",
       "   Cloudiness  \n",
       "0          75  \n",
       "2          90  \n",
       "3           0  \n",
       "5           0  \n",
       "7          98  "
      ]
     },
     "execution_count": 16,
     "metadata": {},
     "output_type": "execute_result"
    }
   ],
   "source": [
    "#Create Northern Hemisphere Dataframe\n",
    "northern_df = city_df[city_df[\"Latitude\"] >= 0]\n",
    "northern_df.head()"
   ]
  },
  {
   "cell_type": "code",
   "execution_count": 17,
   "metadata": {
    "scrolled": true
   },
   "outputs": [
    {
     "data": {
      "text/html": [
       "<div>\n",
       "<style scoped>\n",
       "    .dataframe tbody tr th:only-of-type {\n",
       "        vertical-align: middle;\n",
       "    }\n",
       "\n",
       "    .dataframe tbody tr th {\n",
       "        vertical-align: top;\n",
       "    }\n",
       "\n",
       "    .dataframe thead th {\n",
       "        text-align: right;\n",
       "    }\n",
       "</style>\n",
       "<table border=\"1\" class=\"dataframe\">\n",
       "  <thead>\n",
       "    <tr style=\"text-align: right;\">\n",
       "      <th></th>\n",
       "      <th>City Name</th>\n",
       "      <th>Latitude</th>\n",
       "      <th>Longitude</th>\n",
       "      <th>Temperature</th>\n",
       "      <th>Humidity</th>\n",
       "      <th>Wind Speed</th>\n",
       "      <th>Cloudiness</th>\n",
       "    </tr>\n",
       "  </thead>\n",
       "  <tbody>\n",
       "    <tr>\n",
       "      <th>1</th>\n",
       "      <td>Bluff</td>\n",
       "      <td>-46.60</td>\n",
       "      <td>168.33</td>\n",
       "      <td>50.00</td>\n",
       "      <td>93</td>\n",
       "      <td>8.81</td>\n",
       "      <td>48</td>\n",
       "    </tr>\n",
       "    <tr>\n",
       "      <th>4</th>\n",
       "      <td>Rikitea</td>\n",
       "      <td>-23.12</td>\n",
       "      <td>-134.97</td>\n",
       "      <td>77.38</td>\n",
       "      <td>71</td>\n",
       "      <td>9.33</td>\n",
       "      <td>0</td>\n",
       "    </tr>\n",
       "    <tr>\n",
       "      <th>6</th>\n",
       "      <td>Busselton</td>\n",
       "      <td>-33.65</td>\n",
       "      <td>115.33</td>\n",
       "      <td>52.39</td>\n",
       "      <td>87</td>\n",
       "      <td>13.31</td>\n",
       "      <td>0</td>\n",
       "    </tr>\n",
       "    <tr>\n",
       "      <th>8</th>\n",
       "      <td>Kingaroy</td>\n",
       "      <td>-26.53</td>\n",
       "      <td>151.83</td>\n",
       "      <td>71.60</td>\n",
       "      <td>94</td>\n",
       "      <td>5.82</td>\n",
       "      <td>90</td>\n",
       "    </tr>\n",
       "    <tr>\n",
       "      <th>10</th>\n",
       "      <td>East London</td>\n",
       "      <td>-33.02</td>\n",
       "      <td>27.91</td>\n",
       "      <td>69.80</td>\n",
       "      <td>77</td>\n",
       "      <td>6.93</td>\n",
       "      <td>20</td>\n",
       "    </tr>\n",
       "  </tbody>\n",
       "</table>\n",
       "</div>"
      ],
      "text/plain": [
       "      City Name  Latitude  Longitude  Temperature  Humidity  Wind Speed  \\\n",
       "1         Bluff    -46.60     168.33        50.00        93        8.81   \n",
       "4       Rikitea    -23.12    -134.97        77.38        71        9.33   \n",
       "6     Busselton    -33.65     115.33        52.39        87       13.31   \n",
       "8      Kingaroy    -26.53     151.83        71.60        94        5.82   \n",
       "10  East London    -33.02      27.91        69.80        77        6.93   \n",
       "\n",
       "    Cloudiness  \n",
       "1           48  \n",
       "4            0  \n",
       "6            0  \n",
       "8           90  \n",
       "10          20  "
      ]
     },
     "execution_count": 17,
     "metadata": {},
     "output_type": "execute_result"
    }
   ],
   "source": [
    "#Create Southern Hemisphere Dataframe\n",
    "southern_df = city_df[city_df[\"Latitude\"] < 0]\n",
    "southern_df.head()"
   ]
  },
  {
   "cell_type": "code",
   "execution_count": 18,
   "metadata": {},
   "outputs": [
    {
     "data": {
      "image/png": "[encoded data removed]",
      "text/plain": [
       "<Figure size 432x288 with 1 Axes>"
      ]
     },
     "metadata": {
      "needs_background": "light"
     },
     "output_type": "display_data"
    }
   ],
   "source": [
    "#Northern Hemisphere - Temperature vs. Latitude Linear Regression\n",
    "x_values = northern_df[\"Latitude\"]\n",
    "y_values = northern_df[\"Temperature\"]\n",
    "(slope, intercept, rvalue, pvalue, stderr) = linregress(x_values, y_values)\n",
    "line_eq = \"y= \" + str(round(slope,2)) + \"x + \" + str(round(intercept,2))\n",
    "plt.scatter(x_values, y_values)\n",
    "plt.annotate(line_eq, (6,10), fontsize = 10, color = \"red\")\n",
    "plt.xlabel(\"Latitude\")\n",
    "plt.ylabel(\"Temperature\")\n",
    "plt.show()"
   ]
  },
  {
   "cell_type": "code",
   "execution_count": 19,
   "metadata": {},
   "outputs": [
    {
     "data": {
      "image/png": "[encoded data removed]",
      "text/plain": [
       "<Figure size 432x288 with 1 Axes>"
      ]
     },
     "metadata": {
      "needs_background": "light"
     },
     "output_type": "display_data"
    }
   ],
   "source": [
    "#Southern Hemisphere - Temperature vs. Latitude Linear Regression\n",
    "x_values = southern_df[\"Latitude\"]\n",
    "y_values = southern_df[\"Temperature\"]\n",
    "(slope, intercept, rvalue, pvalue, stderr) = linregress(x_values, y_values)\n",
    "line_eq = \"y= \" + str(round(slope,2)) + \"x + \" + str(round(intercept,2))\n",
    "plt.scatter(x_values, y_values)\n",
    "plt.annotate(line_eq, (6,10), fontsize = 10, color = \"red\")\n",
    "plt.xlabel(\"Latitude\")\n",
    "plt.ylabel(\"Temperature\")\n",
    "plt.show()"
   ]
  },
  {
   "cell_type": "code",
   "execution_count": 20,
   "metadata": {},
   "outputs": [
    {
     "data": {
      "image/png": "[encoded data removed]",
      "text/plain": [
       "<Figure size 432x288 with 1 Axes>"
      ]
     },
     "metadata": {
      "needs_background": "light"
     },
     "output_type": "display_data"
    }
   ],
   "source": [
    "#Northern Hemishere - Humidity vs. Latitude Linear Regression\n",
    "x_values = northern_df[\"Latitude\"]\n",
    "y_values = northern_df[\"Humidity\"]\n",
    "(slope, intercept, rvalue, pvalue, stderr) = linregress(x_values, y_values)\n",
    "line_eq = \"y= \" + str(round(slope,2)) + \"x + \" + str(round(intercept,2))\n",
    "plt.scatter(x_values, y_values)\n",
    "plt.annotate(line_eq, (6,10), fontsize = 10, color = \"red\")\n",
    "plt.xlabel(\"Latitude\")\n",
    "plt.ylabel(\"Humidity\")\n",
    "plt.show()"
   ]
  },
  {
   "cell_type": "code",
   "execution_count": 21,
   "metadata": {},
   "outputs": [
    {
     "data": {
      "image/png": "[encoded data removed]",
      "text/plain": [
       "<Figure size 432x288 with 1 Axes>"
      ]
     },
     "metadata": {
      "needs_background": "light"
     },
     "output_type": "display_data"
    }
   ],
   "source": [
    "#Southern Hemishere - Humidity vs. Latitude Linear Regression\n",
    "x_values = southern_df[\"Latitude\"]\n",
    "y_values = southern_df[\"Humidity\"]\n",
    "(slope, intercept, rvalue, pvalue, stderr) = linregress(x_values, y_values)\n",
    "line_eq = \"y= \" + str(round(slope,2)) + \"x + \" + str(round(intercept,2))\n",
    "plt.scatter(x_values, y_values)\n",
    "plt.annotate(line_eq, (6,10), fontsize = 10, color = \"red\")\n",
    "plt.xlabel(\"Latitude\")\n",
    "plt.ylabel(\"Humidity\")\n",
    "plt.show()"
   ]
  },
  {
   "cell_type": "code",
   "execution_count": 22,
   "metadata": {},
   "outputs": [
    {
     "data": {
      "image/png": "[encoded data removed]",
      "text/plain": [
       "<Figure size 432x288 with 1 Axes>"
      ]
     },
     "metadata": {
      "needs_background": "light"
     },
     "output_type": "display_data"
    }
   ],
   "source": [
    "#Northern Hemisphere - Cloudiness vs. Latitude Linear Regression\n",
    "x_values = northern_df[\"Latitude\"]\n",
    "y_values = northern_df[\"Cloudiness\"]\n",
    "(slope, intercept, rvalue, pvalue, stderr) = linregress(x_values, y_values)\n",
    "line_eq = \"y= \" + str(round(slope,2)) + \"x + \" + str(round(intercept,2))\n",
    "plt.scatter(x_values, y_values)\n",
    "plt.annotate(line_eq, (6,10), fontsize = 10, color = \"red\")\n",
    "plt.xlabel(\"Latitude\")\n",
    "plt.ylabel(\"Cloudiness\")\n",
    "plt.show()"
   ]
  },
  {
   "cell_type": "code",
   "execution_count": 23,
   "metadata": {},
   "outputs": [
    {
     "data": {
      "image/png": "[encoded data removed]",
      "text/plain": [
       "<Figure size 432x288 with 1 Axes>"
      ]
     },
     "metadata": {
      "needs_background": "light"
     },
     "output_type": "display_data"
    }
   ],
   "source": [
    "#Southern Hemisphere - Cloudiness vs. Latitude Linear Regression\n",
    "x_values = southern_df[\"Latitude\"]\n",
    "y_values = southern_df[\"Cloudiness\"]\n",
    "(slope, intercept, rvalue, pvalue, stderr) = linregress(x_values, y_values)\n",
    "line_eq = \"y= \" + str(round(slope,2)) + \"x + \" + str(round(intercept,2))\n",
    "plt.scatter(x_values, y_values)\n",
    "plt.annotate(line_eq, (6,10), fontsize = 10, color = \"red\")\n",
    "plt.xlabel(\"Latitude\")\n",
    "plt.ylabel(\"Cloudiness\")\n",
    "plt.show()"
   ]
  },
  {
   "cell_type": "code",
   "execution_count": 24,
   "metadata": {},
   "outputs": [
    {
     "data": {
      "image/png": "[encoded data removed]",
      "text/plain": [
       "<Figure size 432x288 with 1 Axes>"
      ]
     },
     "metadata": {
      "needs_background": "light"
     },
     "output_type": "display_data"
    }
   ],
   "source": [
    "#Northern Hemisphere - Wind Speed vs. Latitude Linear Regression\n",
    "x_values = northern_df[\"Latitude\"]\n",
    "y_values = northern_df[\"Wind Speed\"]\n",
    "(slope, intercept, rvalue, pvalue, stderr) = linregress(x_values, y_values)\n",
    "line_eq = \"y= \" + str(round(slope,2)) + \"x + \" + str(round(intercept,2))\n",
    "plt.scatter(x_values, y_values)\n",
    "plt.annotate(line_eq, (6,10), fontsize = 10, color = \"red\")\n",
    "plt.xlabel(\"Latitude\")\n",
    "plt.ylabel(\"Wind Speed\")\n",
    "plt.show()"
   ]
  },
  {
   "cell_type": "code",
   "execution_count": 25,
   "metadata": {},
   "outputs": [
    {
     "data": {
      "image/png": "[encoded data removed]",
      "text/plain": [
       "<Figure size 432x288 with 1 Axes>"
      ]
     },
     "metadata": {
      "needs_background": "light"
     },
     "output_type": "display_data"
    }
   ],
   "source": [
    "#Southern Hemisphere - Wind Speed vs. Latitude Linear Regression\n",
    "x_values = southern_df[\"Latitude\"]\n",
    "y_values = southern_df[\"Wind Speed\"]\n",
    "(slope, intercept, rvalue, pvalue, stderr) = linregress(x_values, y_values)\n",
    "line_eq = \"y= \" + str(round(slope,2)) + \"x + \" + str(round(intercept,2))\n",
    "plt.scatter(x_values, y_values)\n",
    "plt.annotate(line_eq, (6,10), fontsize = 10, color = \"red\")\n",
    "plt.xlabel(\"Latitude\")\n",
    "plt.ylabel(\"Wind Speed\")\n",
    "plt.show()"
   ]
  }
 ],
 "metadata": {
  "anaconda-cloud": {},
  "kernel_info": {
   "name": "python3"
  },
  "kernelspec": {
   "display_name": "Python 3",
   "language": "python",
   "name": "python3"
  },
  "language_info": {
   "codemirror_mode": {
    "name": "ipython",
    "version": 3
   },
   "file_extension": ".py",
   "mimetype": "text/x-python",
   "name": "python",
   "nbconvert_exporter": "python",
   "pygments_lexer": "ipython3",
   "version": "3.8.3"
  },
  "latex_envs": {
   "LaTeX_envs_menu_present": true,
   "autoclose": false,
   "autocomplete": true,
   "bibliofile": "biblio.bib",
   "cite_by": "apalike",
   "current_citInitial": 1,
   "eqLabelWithNumbers": true,
   "eqNumInitial": 1,
   "hotkeys": {
    "equation": "Ctrl-E",
    "itemize": "Ctrl-I"
   },
   "labels_anchors": false,
   "latex_user_defs": false,
   "report_style_numbering": false,
   "user_envs_cfg": false
  },
  "nteract": {
   "version": "0.12.3"
  }
 },
 "nbformat": 4,
 "nbformat_minor": 2
}
