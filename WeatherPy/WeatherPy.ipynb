{
 "cells": [
  {
   "cell_type": "markdown",
   "metadata": {},
   "source": [
    "# WeatherPy\n",
    "----\n",
    "\n",
    "#### Note\n",
    "* Instructions have been included for each segment. You do not have to follow them exactly, but they are included to help you think through the steps."
   ]
  },
  {
   "cell_type": "code",
   "execution_count": 1,
   "metadata": {
    "scrolled": true
   },
   "outputs": [],
   "source": [
    "# Dependencies and Setup\n",
    "import matplotlib.pyplot as plt\n",
    "import pandas as pd\n",
    "import numpy as np\n",
    "import requests\n",
    "import time\n",
    "from scipy.stats import linregress\n",
    "import json\n",
    "\n",
    "# Import API key\n",
    "from api_keys import weather_api_key\n",
    "\n",
    "# Incorporated citipy to determine city based on latitude and longitude\n",
    "from citipy import citipy\n",
    "\n",
    "# Output File (CSV)\n",
    "output_data_file = \"output_data/cities.csv\"\n",
    "\n",
    "# Range of latitudes and longitudes\n",
    "lat_range = (-90, 90)\n",
    "lng_range = (-180, 180)"
   ]
  },
  {
   "cell_type": "markdown",
   "metadata": {},
   "source": [
    "## Generate Cities List"
   ]
  },
  {
   "cell_type": "code",
   "execution_count": 2,
   "metadata": {},
   "outputs": [
    {
     "data": {
      "text/plain": [
       "593"
      ]
     },
     "execution_count": 2,
     "metadata": {},
     "output_type": "execute_result"
    }
   ],
   "source": [
    "# List for holding lat_lngs and cities\n",
    "lat_lngs = []\n",
    "cities = []\n",
    "\n",
    "# Create a set of random lat and lng combinations\n",
    "lats = np.random.uniform(lat_range[0], lat_range[1], size=1500)\n",
    "lngs = np.random.uniform(lng_range[0], lng_range[1], size=1500)\n",
    "lat_lngs = zip(lats, lngs)\n",
    "\n",
    "# Identify nearest city for each lat, lng combination\n",
    "for lat_lng in lat_lngs:\n",
    "    city = citipy.nearest_city(lat_lng[0], lat_lng[1]).city_name\n",
    "    \n",
    "    # If the city is unique, then add it to a our cities list\n",
    "    if city not in cities:\n",
    "        cities.append(city)\n",
    "\n",
    "# Print the city count to confirm sufficient count\n",
    "len(cities)"
   ]
  },
  {
   "cell_type": "markdown",
   "metadata": {},
   "source": [
    "### Perform API Calls\n",
    "* Perform a weather check on each city using a series of successive API calls.\n",
    "* Include a print log of each city as it'sbeing processed (with the city number and city name).\n"
   ]
  },
  {
   "cell_type": "code",
   "execution_count": 5,
   "metadata": {
    "scrolled": false
   },
   "outputs": [
    {
     "name": "stdout",
     "output_type": "stream",
     "text": [
      "City not found.  Skipping and going to next city.\n",
      "City not found.  Skipping and going to next city.\n",
      "City not found.  Skipping and going to next city.\n",
      "City not found.  Skipping and going to next city.\n",
      "City not found.  Skipping and going to next city.\n",
      "City not found.  Skipping and going to next city.\n",
      "City not found.  Skipping and going to next city.\n",
      "City not found.  Skipping and going to next city.\n",
      "City not found.  Skipping and going to next city.\n",
      "City not found.  Skipping and going to next city.\n",
      "City not found.  Skipping and going to next city.\n",
      "City not found.  Skipping and going to next city.\n",
      "City not found.  Skipping and going to next city.\n",
      "City not found.  Skipping and going to next city.\n",
      "City not found.  Skipping and going to next city.\n",
      "City not found.  Skipping and going to next city.\n",
      "City not found.  Skipping and going to next city.\n",
      "City not found.  Skipping and going to next city.\n",
      "City not found.  Skipping and going to next city.\n",
      "City not found.  Skipping and going to next city.\n",
      "City not found.  Skipping and going to next city.\n",
      "City not found.  Skipping and going to next city.\n",
      "City not found.  Skipping and going to next city.\n",
      "City not found.  Skipping and going to next city.\n",
      "City not found.  Skipping and going to next city.\n",
      "City not found.  Skipping and going to next city.\n",
      "City not found.  Skipping and going to next city.\n",
      "City not found.  Skipping and going to next city.\n",
      "City not found.  Skipping and going to next city.\n",
      "City not found.  Skipping and going to next city.\n",
      "City not found.  Skipping and going to next city.\n",
      "City not found.  Skipping and going to next city.\n",
      "City not found.  Skipping and going to next city.\n",
      "City not found.  Skipping and going to next city.\n",
      "City not found.  Skipping and going to next city.\n",
      "City not found.  Skipping and going to next city.\n",
      "City not found.  Skipping and going to next city.\n",
      "City not found.  Skipping and going to next city.\n",
      "City not found.  Skipping and going to next city.\n",
      "City not found.  Skipping and going to next city.\n",
      "City not found.  Skipping and going to next city.\n",
      "City not found.  Skipping and going to next city.\n",
      "City not found.  Skipping and going to next city.\n",
      "City not found.  Skipping and going to next city.\n",
      "City not found.  Skipping and going to next city.\n",
      "City not found.  Skipping and going to next city.\n",
      "City not found.  Skipping and going to next city.\n",
      "City not found.  Skipping and going to next city.\n",
      "City not found.  Skipping and going to next city.\n",
      "City not found.  Skipping and going to next city.\n",
      "City not found.  Skipping and going to next city.\n",
      "City not found.  Skipping and going to next city.\n",
      "City not found.  Skipping and going to next city.\n",
      "City not found.  Skipping and going to next city.\n",
      "City not found.  Skipping and going to next city.\n",
      "City not found.  Skipping and going to next city.\n"
     ]
    }
   ],
   "source": [
    "#Request Weather Data on each city in list cities\n",
    "base_url = \"http://api.openweathermap.org/data/2.5/weather?q=\"\n",
    "city_name = []\n",
    "city_lat = []\n",
    "city_temp = []\n",
    "city_humidity = []\n",
    "city_wind_speed = []\n",
    "city_cloudiness = []\n",
    "\n",
    "#Use try/except code to skip broken url's\n",
    "\n",
    "for city in cities:\n",
    "    try:\n",
    "        query_url = base_url + city + \"&appid=\" + weather_api_key\n",
    "        weather_response = requests.get(query_url).json()\n",
    "        city_name.append(weather_response[\"name\"])\n",
    "        city_lat.append(weather_response[\"coord\"][\"lat\"])\n",
    "        city_temp.append(weather_response[\"main\"][\"temp\"])\n",
    "        city_humidity.append(weather_response[\"main\"][\"humidity\"])\n",
    "        city_wind_speed.append(weather_response[\"wind\"][\"speed\"])\n",
    "        city_cloudiness.append(weather_response[\"clouds\"][\"all\"])\n",
    "    except:\n",
    "        print(f\"City not found.  Skipping and going to next city.\")\n",
    "    pass\n",
    "\n",
    "    \n",
    "\n"
   ]
  },
  {
   "cell_type": "markdown",
   "metadata": {},
   "source": [
    "### Convert Raw Data to DataFrame\n",
    "* Export the city data into a .csv.\n",
    "* Display the DataFrame"
   ]
  },
  {
   "cell_type": "code",
   "execution_count": 8,
   "metadata": {},
   "outputs": [],
   "source": [
    "#Convert City Weather Data into Dictionary\n",
    "city_dict = {\n",
    "    \"City Name\": city_name,\n",
    "    \"Latitude\": city_lat,\n",
    "    \"Temperature\": city_temp,\n",
    "    \"Humidity\": city_humidity,\n",
    "    \"Wind Speed\": city_wind_speed,\n",
    "    \"Cloudiness\": city_cloudiness\n",
    "            }"
   ]
  },
  {
   "cell_type": "code",
   "execution_count": 10,
   "metadata": {},
   "outputs": [
    {
     "data": {
      "text/html": [
       "<div>\n",
       "<style scoped>\n",
       "    .dataframe tbody tr th:only-of-type {\n",
       "        vertical-align: middle;\n",
       "    }\n",
       "\n",
       "    .dataframe tbody tr th {\n",
       "        vertical-align: top;\n",
       "    }\n",
       "\n",
       "    .dataframe thead th {\n",
       "        text-align: right;\n",
       "    }\n",
       "</style>\n",
       "<table border=\"1\" class=\"dataframe\">\n",
       "  <thead>\n",
       "    <tr style=\"text-align: right;\">\n",
       "      <th></th>\n",
       "      <th>City Name</th>\n",
       "      <th>Latitude</th>\n",
       "      <th>Temperature</th>\n",
       "      <th>Humidity</th>\n",
       "      <th>Wind Speed</th>\n",
       "      <th>Cloudiness</th>\n",
       "    </tr>\n",
       "  </thead>\n",
       "  <tbody>\n",
       "    <tr>\n",
       "      <th>0</th>\n",
       "      <td>Albany</td>\n",
       "      <td>42.60</td>\n",
       "      <td>270.75</td>\n",
       "      <td>45</td>\n",
       "      <td>2.24</td>\n",
       "      <td>1</td>\n",
       "    </tr>\n",
       "    <tr>\n",
       "      <th>1</th>\n",
       "      <td>Mataura</td>\n",
       "      <td>-46.19</td>\n",
       "      <td>286.48</td>\n",
       "      <td>85</td>\n",
       "      <td>0.89</td>\n",
       "      <td>3</td>\n",
       "    </tr>\n",
       "    <tr>\n",
       "      <th>2</th>\n",
       "      <td>Cape Town</td>\n",
       "      <td>-33.93</td>\n",
       "      <td>294.98</td>\n",
       "      <td>49</td>\n",
       "      <td>11.80</td>\n",
       "      <td>0</td>\n",
       "    </tr>\n",
       "    <tr>\n",
       "      <th>3</th>\n",
       "      <td>Leshukonskoye</td>\n",
       "      <td>64.90</td>\n",
       "      <td>262.05</td>\n",
       "      <td>97</td>\n",
       "      <td>1.84</td>\n",
       "      <td>93</td>\n",
       "    </tr>\n",
       "    <tr>\n",
       "      <th>4</th>\n",
       "      <td>Haines Junction</td>\n",
       "      <td>60.75</td>\n",
       "      <td>257.15</td>\n",
       "      <td>91</td>\n",
       "      <td>0.64</td>\n",
       "      <td>100</td>\n",
       "    </tr>\n",
       "    <tr>\n",
       "      <th>...</th>\n",
       "      <td>...</td>\n",
       "      <td>...</td>\n",
       "      <td>...</td>\n",
       "      <td>...</td>\n",
       "      <td>...</td>\n",
       "      <td>...</td>\n",
       "    </tr>\n",
       "    <tr>\n",
       "      <th>532</th>\n",
       "      <td>Port Hedland</td>\n",
       "      <td>-20.32</td>\n",
       "      <td>300.15</td>\n",
       "      <td>78</td>\n",
       "      <td>4.10</td>\n",
       "      <td>0</td>\n",
       "    </tr>\n",
       "    <tr>\n",
       "      <th>533</th>\n",
       "      <td>Januária</td>\n",
       "      <td>-15.48</td>\n",
       "      <td>302.34</td>\n",
       "      <td>54</td>\n",
       "      <td>1.92</td>\n",
       "      <td>0</td>\n",
       "    </tr>\n",
       "    <tr>\n",
       "      <th>534</th>\n",
       "      <td>Manutuke</td>\n",
       "      <td>-38.68</td>\n",
       "      <td>286.48</td>\n",
       "      <td>76</td>\n",
       "      <td>1.79</td>\n",
       "      <td>2</td>\n",
       "    </tr>\n",
       "    <tr>\n",
       "      <th>535</th>\n",
       "      <td>Bayan</td>\n",
       "      <td>46.08</td>\n",
       "      <td>247.55</td>\n",
       "      <td>85</td>\n",
       "      <td>3.00</td>\n",
       "      <td>0</td>\n",
       "    </tr>\n",
       "    <tr>\n",
       "      <th>536</th>\n",
       "      <td>İslahiye</td>\n",
       "      <td>37.02</td>\n",
       "      <td>287.03</td>\n",
       "      <td>81</td>\n",
       "      <td>0.93</td>\n",
       "      <td>75</td>\n",
       "    </tr>\n",
       "  </tbody>\n",
       "</table>\n",
       "<p>537 rows × 6 columns</p>\n",
       "</div>"
      ],
      "text/plain": [
       "           City Name  Latitude  Temperature  Humidity  Wind Speed  Cloudiness\n",
       "0             Albany     42.60       270.75        45        2.24           1\n",
       "1            Mataura    -46.19       286.48        85        0.89           3\n",
       "2          Cape Town    -33.93       294.98        49       11.80           0\n",
       "3      Leshukonskoye     64.90       262.05        97        1.84          93\n",
       "4    Haines Junction     60.75       257.15        91        0.64         100\n",
       "..               ...       ...          ...       ...         ...         ...\n",
       "532     Port Hedland    -20.32       300.15        78        4.10           0\n",
       "533         Januária    -15.48       302.34        54        1.92           0\n",
       "534         Manutuke    -38.68       286.48        76        1.79           2\n",
       "535            Bayan     46.08       247.55        85        3.00           0\n",
       "536         İslahiye     37.02       287.03        81        0.93          75\n",
       "\n",
       "[537 rows x 6 columns]"
      ]
     },
     "execution_count": 10,
     "metadata": {},
     "output_type": "execute_result"
    }
   ],
   "source": [
    "#Convert City Dictionary into a Dataframe\n",
    "city_df = pd.DataFrame(city_dict)\n",
    "city_df"
   ]
  },
  {
   "cell_type": "markdown",
   "metadata": {},
   "source": [
    "## Inspect the data and remove the cities where the humidity > 100%.\n",
    "----\n",
    "Skip this step if there are no cities that have humidity > 100%. "
   ]
  },
  {
   "cell_type": "code",
   "execution_count": null,
   "metadata": {},
   "outputs": [],
   "source": []
  },
  {
   "cell_type": "code",
   "execution_count": null,
   "metadata": {},
   "outputs": [],
   "source": [
    "#  Get the indices of cities that have humidity over 100%.\n"
   ]
  },
  {
   "cell_type": "code",
   "execution_count": null,
   "metadata": {},
   "outputs": [],
   "source": [
    "# Make a new DataFrame equal to the city data to drop all humidity outliers by index.\n",
    "# Passing \"inplace=False\" will make a copy of the city_data DataFrame, which we call \"clean_city_data\".\n"
   ]
  },
  {
   "cell_type": "code",
   "execution_count": null,
   "metadata": {},
   "outputs": [],
   "source": [
    "\n"
   ]
  },
  {
   "cell_type": "markdown",
   "metadata": {},
   "source": [
    "## Plotting the Data\n",
    "* Use proper labeling of the plots using plot titles (including date of analysis) and axes labels.\n",
    "* Save the plotted figures as .pngs."
   ]
  },
  {
   "cell_type": "markdown",
   "metadata": {},
   "source": [
    "## Latitude vs. Temperature Plot"
   ]
  },
  {
   "cell_type": "code",
   "execution_count": null,
   "metadata": {
    "scrolled": true
   },
   "outputs": [],
   "source": []
  },
  {
   "cell_type": "markdown",
   "metadata": {},
   "source": [
    "## Latitude vs. Humidity Plot"
   ]
  },
  {
   "cell_type": "code",
   "execution_count": null,
   "metadata": {},
   "outputs": [],
   "source": []
  },
  {
   "cell_type": "markdown",
   "metadata": {},
   "source": [
    "## Latitude vs. Cloudiness Plot"
   ]
  },
  {
   "cell_type": "code",
   "execution_count": null,
   "metadata": {},
   "outputs": [],
   "source": []
  },
  {
   "cell_type": "markdown",
   "metadata": {},
   "source": [
    "## Latitude vs. Wind Speed Plot"
   ]
  },
  {
   "cell_type": "code",
   "execution_count": null,
   "metadata": {},
   "outputs": [],
   "source": []
  },
  {
   "cell_type": "markdown",
   "metadata": {},
   "source": [
    "## Linear Regression"
   ]
  },
  {
   "cell_type": "code",
   "execution_count": null,
   "metadata": {},
   "outputs": [],
   "source": []
  },
  {
   "cell_type": "markdown",
   "metadata": {},
   "source": [
    "####  Northern Hemisphere - Max Temp vs. Latitude Linear Regression"
   ]
  },
  {
   "cell_type": "code",
   "execution_count": null,
   "metadata": {},
   "outputs": [],
   "source": []
  },
  {
   "cell_type": "markdown",
   "metadata": {},
   "source": [
    "####  Southern Hemisphere - Max Temp vs. Latitude Linear Regression"
   ]
  },
  {
   "cell_type": "code",
   "execution_count": null,
   "metadata": {},
   "outputs": [],
   "source": []
  },
  {
   "cell_type": "markdown",
   "metadata": {},
   "source": [
    "####  Northern Hemisphere - Humidity (%) vs. Latitude Linear Regression"
   ]
  },
  {
   "cell_type": "code",
   "execution_count": null,
   "metadata": {},
   "outputs": [],
   "source": []
  },
  {
   "cell_type": "markdown",
   "metadata": {},
   "source": [
    "####  Southern Hemisphere - Humidity (%) vs. Latitude Linear Regression"
   ]
  },
  {
   "cell_type": "code",
   "execution_count": null,
   "metadata": {},
   "outputs": [],
   "source": []
  },
  {
   "cell_type": "markdown",
   "metadata": {},
   "source": [
    "####  Northern Hemisphere - Cloudiness (%) vs. Latitude Linear Regression"
   ]
  },
  {
   "cell_type": "code",
   "execution_count": null,
   "metadata": {},
   "outputs": [],
   "source": []
  },
  {
   "cell_type": "markdown",
   "metadata": {},
   "source": [
    "####  Southern Hemisphere - Cloudiness (%) vs. Latitude Linear Regression"
   ]
  },
  {
   "cell_type": "code",
   "execution_count": null,
   "metadata": {},
   "outputs": [],
   "source": []
  },
  {
   "cell_type": "markdown",
   "metadata": {},
   "source": [
    "####  Northern Hemisphere - Wind Speed (mph) vs. Latitude Linear Regression"
   ]
  },
  {
   "cell_type": "code",
   "execution_count": null,
   "metadata": {},
   "outputs": [],
   "source": []
  },
  {
   "cell_type": "markdown",
   "metadata": {},
   "source": [
    "####  Southern Hemisphere - Wind Speed (mph) vs. Latitude Linear Regression"
   ]
  },
  {
   "cell_type": "code",
   "execution_count": null,
   "metadata": {},
   "outputs": [],
   "source": []
  },
  {
   "cell_type": "code",
   "execution_count": null,
   "metadata": {},
   "outputs": [],
   "source": []
  }
 ],
 "metadata": {
  "anaconda-cloud": {},
  "kernel_info": {
   "name": "python3"
  },
  "kernelspec": {
   "display_name": "Python 3",
   "language": "python",
   "name": "python3"
  },
  "language_info": {
   "codemirror_mode": {
    "name": "ipython",
    "version": 3
   },
   "file_extension": ".py",
   "mimetype": "text/x-python",
   "name": "python",
   "nbconvert_exporter": "python",
   "pygments_lexer": "ipython3",
   "version": "3.8.3"
  },
  "latex_envs": {
   "LaTeX_envs_menu_present": true,
   "autoclose": false,
   "autocomplete": true,
   "bibliofile": "biblio.bib",
   "cite_by": "apalike",
   "current_citInitial": 1,
   "eqLabelWithNumbers": true,
   "eqNumInitial": 1,
   "hotkeys": {
    "equation": "Ctrl-E",
    "itemize": "Ctrl-I"
   },
   "labels_anchors": false,
   "latex_user_defs": false,
   "report_style_numbering": false,
   "user_envs_cfg": false
  },
  "nteract": {
   "version": "0.12.3"
  }
 },
 "nbformat": 4,
 "nbformat_minor": 2
}
