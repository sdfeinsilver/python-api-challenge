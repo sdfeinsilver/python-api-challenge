{
 "cells": [
  {
   "cell_type": "markdown",
   "metadata": {},
   "source": [
    "# WeatherPy\n",
    "----\n",
    "\n",
    "#### Note\n",
    "* Instructions have been included for each segment. You do not have to follow them exactly, but they are included to help you think through the steps."
   ]
  },
  {
   "cell_type": "code",
   "execution_count": 22,
   "metadata": {
    "scrolled": true
   },
   "outputs": [],
   "source": [
    "# Dependencies and Setup\n",
    "import matplotlib.pyplot as plt\n",
    "import pandas as pd\n",
    "import numpy as np\n",
    "import requests\n",
    "import time\n",
    "from scipy.stats import linregress\n",
    "import json\n",
    "\n",
    "# Import API key\n",
    "from api_keys import weather_api_key\n",
    "\n",
    "# Incorporated citipy to determine city based on latitude and longitude\n",
    "from citipy import citipy\n",
    "\n",
    "# Output File (CSV)\n",
    "output_data_file = \"output_data/cities.csv\"\n",
    "\n",
    "# Range of latitudes and longitudes\n",
    "lat_range = (-90, 90)\n",
    "lng_range = (-180, 180)"
   ]
  },
  {
   "cell_type": "markdown",
   "metadata": {},
   "source": [
    "## Generate Cities List"
   ]
  },
  {
   "cell_type": "code",
   "execution_count": 23,
   "metadata": {},
   "outputs": [
    {
     "data": {
      "text/plain": [
       "605"
      ]
     },
     "execution_count": 23,
     "metadata": {},
     "output_type": "execute_result"
    }
   ],
   "source": [
    "# List for holding lat_lngs and cities\n",
    "lat_lngs = []\n",
    "cities = []\n",
    "\n",
    "# Create a set of random lat and lng combinations\n",
    "lats = np.random.uniform(lat_range[0], lat_range[1], size=1500)\n",
    "lngs = np.random.uniform(lng_range[0], lng_range[1], size=1500)\n",
    "lat_lngs = zip(lats, lngs)\n",
    "\n",
    "# Identify nearest city for each lat, lng combination\n",
    "for lat_lng in lat_lngs:\n",
    "    city = citipy.nearest_city(lat_lng[0], lat_lng[1]).city_name\n",
    "    \n",
    "    # If the city is unique, then add it to a our cities list\n",
    "    if city not in cities:\n",
    "        cities.append(city)\n",
    "\n",
    "# Print the city count to confirm sufficient count\n",
    "len(cities)"
   ]
  },
  {
   "cell_type": "markdown",
   "metadata": {},
   "source": [
    "### Perform API Calls\n",
    "* Perform a weather check on each city using a series of successive API calls.\n",
    "* Include a print log of each city as it'sbeing processed (with the city number and city name).\n"
   ]
  },
  {
   "cell_type": "code",
   "execution_count": 24,
   "metadata": {
    "scrolled": false
   },
   "outputs": [
    {
     "name": "stdout",
     "output_type": "stream",
     "text": [
      "Retrieving brae weather data\n",
      "Retrieving isangel weather data\n",
      "Retrieving bredasdorp weather data\n",
      "Retrieving kruisfontein weather data\n",
      "Retrieving riverton weather data\n",
      "Retrieving punta arenas weather data\n",
      "City not found.  Skipping and going to next city.\n",
      "Retrieving mildura weather data\n",
      "Retrieving hithadhoo weather data\n",
      "Retrieving avarua weather data\n",
      "Retrieving dingle weather data\n",
      "Retrieving chizhou weather data\n",
      "City not found.  Skipping and going to next city.\n",
      "Retrieving busselton weather data\n",
      "Retrieving butaritari weather data\n",
      "Retrieving airai weather data\n",
      "Retrieving lebu weather data\n",
      "Retrieving ushuaia weather data\n",
      "Retrieving shelburne weather data\n",
      "Retrieving zhigansk weather data\n",
      "Retrieving rikitea weather data\n",
      "City not found.  Skipping and going to next city.\n",
      "Retrieving egvekinot weather data\n",
      "Retrieving dikson weather data\n",
      "City not found.  Skipping and going to next city.\n",
      "Retrieving fairbanks weather data\n",
      "Retrieving kontagora weather data\n",
      "Retrieving saint-philippe weather data\n",
      "Retrieving castro weather data\n",
      "Retrieving barrow weather data\n",
      "City not found.  Skipping and going to next city.\n",
      "Retrieving new norfolk weather data\n",
      "Retrieving san andres weather data\n",
      "Retrieving saint-georges weather data\n",
      "Retrieving mocuba weather data\n",
      "Retrieving mukhen weather data\n",
      "Retrieving auki weather data\n",
      "Retrieving port-cartier weather data\n",
      "City not found.  Skipping and going to next city.\n",
      "Retrieving novyy nekouz weather data\n",
      "Retrieving faanui weather data\n",
      "Retrieving martinsville weather data\n",
      "Retrieving thompson weather data\n",
      "Retrieving martapura weather data\n",
      "City not found.  Skipping and going to next city.\n",
      "Retrieving hermanus weather data\n",
      "City not found.  Skipping and going to next city.\n",
      "Retrieving manzil salim weather data\n",
      "Retrieving tiksi weather data\n",
      "Retrieving puerto ayora weather data\n",
      "Retrieving victoria weather data\n",
      "City not found.  Skipping and going to next city.\n",
      "Retrieving itiuba weather data\n",
      "Retrieving tuktoyaktuk weather data\n",
      "Retrieving abha weather data\n",
      "Retrieving norman wells weather data\n",
      "Retrieving grafton weather data\n",
      "Retrieving nuevo progreso weather data\n",
      "Retrieving hilo weather data\n",
      "Retrieving severo-kurilsk weather data\n",
      "Retrieving qaanaaq weather data\n",
      "Retrieving navrongo weather data\n",
      "Retrieving caravelas weather data\n",
      "Retrieving saskylakh weather data\n",
      "Retrieving puerto ayacucho weather data\n",
      "Retrieving kapaa weather data\n",
      "Retrieving tautira weather data\n",
      "Retrieving qaqortoq weather data\n",
      "Retrieving port elizabeth weather data\n",
      "Retrieving yellowknife weather data\n",
      "Retrieving tambacounda weather data\n",
      "Retrieving saint-medard-en-jalles weather data\n",
      "Retrieving lagos weather data\n",
      "Retrieving kavaratti weather data\n",
      "City not found.  Skipping and going to next city.\n",
      "Retrieving mataura weather data\n",
      "City not found.  Skipping and going to next city.\n",
      "Retrieving wiwili weather data\n",
      "Retrieving chongwe weather data\n",
      "Retrieving albany weather data\n",
      "Retrieving aquin weather data\n",
      "Retrieving provideniya weather data\n",
      "City not found.  Skipping and going to next city.\n",
      "Retrieving dongsheng weather data\n",
      "Retrieving port alfred weather data\n",
      "Retrieving kwinana weather data\n",
      "Retrieving sao filipe weather data\n",
      "Retrieving khatanga weather data\n",
      "Retrieving kaitangata weather data\n",
      "Retrieving pisco weather data\n",
      "Retrieving hobart weather data\n",
      "Retrieving vaini weather data\n",
      "Retrieving praya weather data\n",
      "Retrieving toyooka weather data\n",
      "Retrieving mahebourg weather data\n",
      "Retrieving tumut weather data\n",
      "Retrieving skibbereen weather data\n",
      "City not found.  Skipping and going to next city.\n",
      "Retrieving kapit weather data\n",
      "Retrieving vila praia de ancora weather data\n",
      "Retrieving necochea weather data\n",
      "City not found.  Skipping and going to next city.\n",
      "Retrieving longyearbyen weather data\n",
      "Retrieving pevek weather data\n",
      "Retrieving athabasca weather data\n",
      "Retrieving price weather data\n",
      "Retrieving tripoli weather data\n",
      "Retrieving makakilo city weather data\n",
      "City not found.  Skipping and going to next city.\n",
      "Retrieving wangkui weather data\n",
      "City not found.  Skipping and going to next city.\n",
      "Retrieving chara weather data\n",
      "Retrieving ribeira grande weather data\n",
      "City not found.  Skipping and going to next city.\n",
      "Retrieving pathardi weather data\n",
      "Retrieving kodiak weather data\n",
      "Retrieving vila franca do campo weather data\n",
      "Retrieving bethel weather data\n",
      "Retrieving beringovskiy weather data\n",
      "Retrieving arlit weather data\n",
      "Retrieving catuday weather data\n",
      "Retrieving port lincoln weather data\n",
      "Retrieving urumqi weather data\n",
      "Retrieving torbay weather data\n",
      "Retrieving saint george weather data\n",
      "Retrieving yacopi weather data\n",
      "Retrieving vostok weather data\n",
      "Retrieving ossora weather data\n",
      "Retrieving nouadhibou weather data\n",
      "Retrieving sretensk weather data\n",
      "Retrieving osoyoos weather data\n",
      "Retrieving santa maria weather data\n",
      "Retrieving kota belud weather data\n",
      "Retrieving shaowu weather data\n",
      "Retrieving sovetskoye weather data\n",
      "Retrieving aswan weather data\n",
      "Retrieving lorengau weather data\n",
      "City not found.  Skipping and going to next city.\n",
      "Retrieving san vicente weather data\n",
      "Retrieving bengkulu weather data\n",
      "Retrieving portlethen weather data\n",
      "Retrieving hervey bay weather data\n",
      "Retrieving kahului weather data\n",
      "Retrieving kerman weather data\n",
      "Retrieving bluff weather data\n",
      "Retrieving east london weather data\n",
      "Retrieving jamestown weather data\n",
      "Retrieving atuona weather data\n",
      "City not found.  Skipping and going to next city.\n",
      "Retrieving mar del plata weather data\n",
      "Retrieving dubrovka weather data\n",
      "Retrieving nabire weather data\n",
      "Retrieving hofn weather data\n",
      "Retrieving changping weather data\n",
      "Retrieving paso de los toros weather data\n",
      "Retrieving worland weather data\n",
      "Retrieving mount isa weather data\n",
      "Retrieving yulara weather data\n",
      "Retrieving cidreira weather data\n",
      "Retrieving grants weather data\n",
      "Retrieving nanortalik weather data\n",
      "Retrieving kamyshevatskaya weather data\n",
      "City not found.  Skipping and going to next city.\n",
      "Retrieving cape town weather data\n",
      "Retrieving narsaq weather data\n",
      "Retrieving havre-saint-pierre weather data\n",
      "Retrieving geraldton weather data\n",
      "Retrieving lima weather data\n",
      "City not found.  Skipping and going to next city.\n",
      "Retrieving alofi weather data\n",
      "Retrieving chapais weather data\n",
      "Retrieving ourem weather data\n",
      "Retrieving bilibino weather data\n",
      "Retrieving hollins weather data\n",
      "Retrieving tilichiki weather data\n",
      "Retrieving surgut weather data\n",
      "Retrieving pundaguitan weather data\n",
      "Retrieving trincomalee weather data\n",
      "Retrieving bedford weather data\n",
      "Retrieving tura weather data\n",
      "Retrieving esperance weather data\n",
      "City not found.  Skipping and going to next city.\n",
      "City not found.  Skipping and going to next city.\n",
      "Retrieving houma weather data\n",
      "Retrieving carnarvon weather data\n",
      "Retrieving payo weather data\n",
      "Retrieving gat weather data\n",
      "City not found.  Skipping and going to next city.\n",
      "Retrieving parabel weather data\n",
      "Retrieving somerset weather data\n",
      "Retrieving broken hill weather data\n",
      "Retrieving adrar weather data\n",
      "Retrieving bundaberg weather data\n",
      "Retrieving hualmay weather data\n",
      "Retrieving palmer weather data\n",
      "Retrieving dwarka weather data\n",
      "Retrieving goundam weather data\n",
      "Retrieving buin weather data\n",
      "Retrieving san policarpo weather data\n",
      "City not found.  Skipping and going to next city.\n",
      "Retrieving olafsvik weather data\n",
      "Retrieving broome weather data\n",
      "Retrieving margate weather data\n",
      "Retrieving coihaique weather data\n",
      "Retrieving ponta do sol weather data\n",
      "Retrieving blagoevgrad weather data\n",
      "Retrieving wahiawa weather data\n",
      "Retrieving utete weather data\n",
      "Retrieving arraial do cabo weather data\n",
      "Retrieving puebloviejo weather data\n",
      "Retrieving jodiya weather data\n",
      "Retrieving souillac weather data\n",
      "Retrieving cherskiy weather data\n",
      "Retrieving ustye weather data\n",
      "Retrieving bima weather data\n",
      "Retrieving talara weather data\n",
      "Retrieving smithers weather data\n",
      "Retrieving baruun-urt weather data\n",
      "Retrieving omaruru weather data\n",
      "Retrieving bambous virieux weather data\n",
      "Retrieving verkhnyaya inta weather data\n",
      "Retrieving cabra weather data\n",
      "Retrieving ancud weather data\n",
      "Retrieving mombetsu weather data\n",
      "Retrieving hot springs weather data\n",
      "City not found.  Skipping and going to next city.\n",
      "Retrieving sao joao da barra weather data\n",
      "Retrieving tara weather data\n",
      "Retrieving cayenne weather data\n",
      "Retrieving hit weather data\n",
      "Retrieving vidim weather data\n",
      "Retrieving coquimbo weather data\n",
      "City not found.  Skipping and going to next city.\n",
      "Retrieving antalaha weather data\n"
     ]
    },
    {
     "name": "stdout",
     "output_type": "stream",
     "text": [
      "Retrieving yushan weather data\n",
      "Retrieving huarmey weather data\n",
      "Retrieving hobyo weather data\n",
      "City not found.  Skipping and going to next city.\n",
      "Retrieving peniche weather data\n",
      "Retrieving banepa weather data\n",
      "Retrieving keti bandar weather data\n",
      "Retrieving cedar city weather data\n",
      "Retrieving garowe weather data\n",
      "Retrieving svetlyy weather data\n",
      "Retrieving pacific grove weather data\n",
      "Retrieving lamin weather data\n",
      "Retrieving mogadishu weather data\n",
      "Retrieving ilulissat weather data\n",
      "Retrieving gladstone weather data\n",
      "City not found.  Skipping and going to next city.\n",
      "Retrieving constitucion weather data\n",
      "Retrieving nakamura weather data\n",
      "Retrieving yaan weather data\n",
      "Retrieving vincennes weather data\n",
      "Retrieving siva weather data\n",
      "Retrieving severomuysk weather data\n",
      "Retrieving puksoozero weather data\n",
      "Retrieving bardiyah weather data\n",
      "Retrieving port-gentil weather data\n",
      "Retrieving medina weather data\n",
      "Retrieving barcelos weather data\n",
      "Retrieving san patricio weather data\n",
      "Retrieving ola weather data\n",
      "Retrieving muros weather data\n",
      "Retrieving haines junction weather data\n",
      "Retrieving tiszakecske weather data\n",
      "Retrieving pangai weather data\n",
      "Retrieving nong chik weather data\n",
      "Retrieving grindavik weather data\n",
      "Retrieving nikolskoye weather data\n",
      "Retrieving qasigiannguit weather data\n",
      "Retrieving mayor pablo lagerenza weather data\n",
      "Retrieving banff weather data\n",
      "Retrieving cockburn town weather data\n",
      "City not found.  Skipping and going to next city.\n",
      "Retrieving fortuna weather data\n",
      "Retrieving arroio grande weather data\n",
      "Retrieving cabo san lucas weather data\n",
      "Retrieving micheweni weather data\n",
      "Retrieving kidal weather data\n",
      "Retrieving kununurra weather data\n",
      "Retrieving hay river weather data\n",
      "Retrieving vorobyevka weather data\n",
      "Retrieving yarmouth weather data\n",
      "Retrieving sassari weather data\n",
      "Retrieving codrington weather data\n",
      "Retrieving mul weather data\n",
      "Retrieving sola weather data\n",
      "Retrieving aksu weather data\n",
      "Retrieving maningrida weather data\n",
      "City not found.  Skipping and going to next city.\n",
      "Retrieving iqaluit weather data\n",
      "Retrieving san antonio weather data\n",
      "Retrieving jalu weather data\n",
      "Retrieving camopi weather data\n",
      "Retrieving chuy weather data\n",
      "Retrieving trondheim weather data\n",
      "City not found.  Skipping and going to next city.\n",
      "Retrieving arvika weather data\n",
      "Retrieving monte patria weather data\n",
      "Retrieving san felipe weather data\n",
      "City not found.  Skipping and going to next city.\n",
      "Retrieving la ronge weather data\n",
      "Retrieving opaka weather data\n",
      "Retrieving poum weather data\n",
      "Retrieving teterow weather data\n",
      "Retrieving tasiilaq weather data\n",
      "Retrieving bowen weather data\n",
      "Retrieving ixtapa weather data\n",
      "Retrieving jardim weather data\n",
      "Retrieving preobrazheniye weather data\n",
      "Retrieving porbandar weather data\n",
      "Retrieving saint-francois weather data\n",
      "Retrieving ambilobe weather data\n",
      "Retrieving isernia weather data\n",
      "Retrieving mabaruma weather data\n",
      "Retrieving garissa weather data\n",
      "Retrieving mahibadhoo weather data\n",
      "Retrieving aloleng weather data\n",
      "Retrieving bandarbeyla weather data\n",
      "Retrieving los llanos de aridane weather data\n",
      "Retrieving saldanha weather data\n",
      "Retrieving yairipok weather data\n",
      "Retrieving canby weather data\n",
      "Retrieving ust-tsilma weather data\n",
      "Retrieving sechura weather data\n",
      "Retrieving fukue weather data\n",
      "Retrieving vanimo weather data\n",
      "Retrieving omboue weather data\n",
      "Retrieving lyantonde weather data\n",
      "Retrieving sargatskoye weather data\n",
      "City not found.  Skipping and going to next city.\n",
      "Retrieving bireun weather data\n",
      "Retrieving balabac weather data\n",
      "Retrieving hamilton weather data\n",
      "Retrieving litovko weather data\n",
      "Retrieving polson weather data\n",
      "Retrieving luena weather data\n",
      "Retrieving labuhan weather data\n",
      "Retrieving karratha weather data\n",
      "Retrieving saint-joseph weather data\n",
      "Retrieving sassandra weather data\n",
      "Retrieving quatre cocos weather data\n",
      "Retrieving urgut weather data\n",
      "Retrieving nokaneng weather data\n",
      "City not found.  Skipping and going to next city.\n",
      "Retrieving prince rupert weather data\n",
      "Retrieving katsuura weather data\n",
      "Retrieving mount clemens weather data\n",
      "Retrieving verkhniy landekh weather data\n",
      "Retrieving salalah weather data\n",
      "Retrieving hirado weather data\n",
      "Retrieving khuzhir weather data\n",
      "Retrieving mopipi weather data\n",
      "Retrieving talnakh weather data\n",
      "Retrieving lavrentiya weather data\n",
      "Retrieving raudeberg weather data\n",
      "Retrieving slatina weather data\n",
      "Retrieving juneau weather data\n",
      "Retrieving iskateley weather data\n",
      "Retrieving ponte nova weather data\n",
      "Retrieving minamata weather data\n",
      "Retrieving dunedin weather data\n",
      "Retrieving matay weather data\n",
      "Retrieving madimba weather data\n",
      "Retrieving bubaque weather data\n",
      "Retrieving monduli weather data\n",
      "Retrieving altagracia de orituco weather data\n",
      "Retrieving batouri weather data\n",
      "Retrieving ishigaki weather data\n",
      "Retrieving eureka weather data\n",
      "Retrieving hambantota weather data\n",
      "Retrieving novyy urgal weather data\n",
      "Retrieving vila velha weather data\n",
      "Retrieving aykhal weather data\n",
      "Retrieving san quintin weather data\n",
      "Retrieving hasaki weather data\n",
      "Retrieving hovd weather data\n",
      "Retrieving biltine weather data\n",
      "Retrieving ascension weather data\n",
      "Retrieving virginia beach weather data\n",
      "Retrieving trelew weather data\n",
      "Retrieving stephenville weather data\n",
      "City not found.  Skipping and going to next city.\n",
      "City not found.  Skipping and going to next city.\n",
      "Retrieving gueret weather data\n",
      "Retrieving grand gaube weather data\n",
      "Retrieving lingao weather data\n",
      "Retrieving alamosa weather data\n",
      "Retrieving taoudenni weather data\n",
      "Retrieving upernavik weather data\n",
      "City not found.  Skipping and going to next city.\n",
      "Retrieving general roca weather data\n",
      "Retrieving sorland weather data\n",
      "Retrieving celestun weather data\n",
      "Retrieving salta weather data\n",
      "Retrieving bilma weather data\n",
      "Retrieving nyurba weather data\n",
      "Retrieving madang weather data\n",
      "Retrieving zhangye weather data\n",
      "Retrieving daru weather data\n",
      "Retrieving ostrovnoy weather data\n",
      "Retrieving karpathos weather data\n",
      "Retrieving sorkjosen weather data\n",
      "Retrieving nova vicosa weather data\n",
      "Retrieving champerico weather data\n",
      "Retrieving inongo weather data\n",
      "Retrieving oxford weather data\n",
      "Retrieving georgetown weather data\n",
      "City not found.  Skipping and going to next city.\n",
      "City not found.  Skipping and going to next city.\n",
      "Retrieving majene weather data\n",
      "Retrieving idil weather data\n",
      "Retrieving okhotsk weather data\n",
      "Retrieving ordynskoye weather data\n",
      "Retrieving deputatskiy weather data\n",
      "Retrieving flinders weather data\n",
      "Retrieving tuatapere weather data\n",
      "Retrieving rampur weather data\n",
      "Retrieving niimi weather data\n",
      "Retrieving doha weather data\n",
      "Retrieving carballo weather data\n",
      "Retrieving saravan weather data\n",
      "Retrieving najran weather data\n",
      "Retrieving atar weather data\n",
      "Retrieving lasa weather data\n",
      "Retrieving barabinsk weather data\n",
      "Retrieving hirara weather data\n",
      "Retrieving weligama weather data\n",
      "Retrieving portland weather data\n",
      "Retrieving nizhnevartovsk weather data\n",
      "Retrieving lompoc weather data\n",
      "Retrieving chulman weather data\n",
      "Retrieving batagay-alyta weather data\n",
      "Retrieving nemuro weather data\n",
      "Retrieving marsh harbour weather data\n",
      "Retrieving batemans bay weather data\n",
      "Retrieving nantucket weather data\n",
      "Retrieving yashalta weather data\n",
      "Retrieving thunder bay weather data\n",
      "Retrieving zhangjiakou weather data\n",
      "Retrieving yar-sale weather data\n",
      "Retrieving ucluelet weather data\n",
      "Retrieving mitzic weather data\n",
      "Retrieving cape canaveral weather data\n",
      "Retrieving tabou weather data\n",
      "Retrieving namibe weather data\n",
      "Retrieving kresttsy weather data\n",
      "Retrieving sitka weather data\n",
      "Retrieving leh weather data\n",
      "Retrieving matagami weather data\n",
      "Retrieving port macquarie weather data\n",
      "Retrieving yei weather data\n",
      "Retrieving te anau weather data\n",
      "Retrieving mangrol weather data\n",
      "Retrieving miri weather data\n",
      "Retrieving brejo weather data\n",
      "Retrieving sisimiut weather data\n",
      "Retrieving charters towers weather data\n",
      "Retrieving rocha weather data\n",
      "Retrieving sao francisco do sul weather data\n",
      "Retrieving asau weather data\n",
      "Retrieving menongue weather data\n",
      "Retrieving andapa weather data\n",
      "Retrieving lagoa weather data\n",
      "Retrieving shache weather data\n",
      "Retrieving trinidad weather data\n",
      "Retrieving marand weather data\n",
      "Retrieving comodoro rivadavia weather data\n",
      "Retrieving remolino weather data\n",
      "Retrieving aklavik weather data\n",
      "Retrieving matara weather data\n",
      "Retrieving saint anthony weather data\n",
      "Retrieving iranshahr weather data\n",
      "Retrieving ust-uda weather data\n"
     ]
    },
    {
     "name": "stdout",
     "output_type": "stream",
     "text": [
      "Retrieving smirnykh weather data\n",
      "Retrieving belmonte weather data\n",
      "Retrieving susangerd weather data\n",
      "Retrieving baherden weather data\n",
      "Retrieving jumla weather data\n",
      "Retrieving enkoping weather data\n",
      "City not found.  Skipping and going to next city.\n",
      "Retrieving vestmanna weather data\n",
      "Retrieving wenling weather data\n",
      "Retrieving tungor weather data\n",
      "City not found.  Skipping and going to next city.\n",
      "Retrieving udachnyy weather data\n",
      "Retrieving homer weather data\n",
      "Retrieving green valley weather data\n",
      "Retrieving kouango weather data\n",
      "Retrieving berlevag weather data\n",
      "Retrieving itarema weather data\n",
      "Retrieving belaya gora weather data\n",
      "Retrieving winsum weather data\n",
      "Retrieving chokurdakh weather data\n",
      "Retrieving avera weather data\n",
      "Retrieving weihai weather data\n",
      "City not found.  Skipping and going to next city.\n",
      "Retrieving alice springs weather data\n",
      "Retrieving san cristobal weather data\n",
      "Retrieving praia weather data\n",
      "Retrieving lourdes weather data\n",
      "Retrieving alyangula weather data\n",
      "Retrieving calbuco weather data\n",
      "Retrieving kavieng weather data\n",
      "Retrieving plettenberg bay weather data\n",
      "City not found.  Skipping and going to next city.\n",
      "Retrieving savinka weather data\n",
      "Retrieving sabha weather data\n",
      "Retrieving panzhihua weather data\n",
      "Retrieving kapoeta weather data\n",
      "Retrieving usakos weather data\n",
      "Retrieving evensk weather data\n",
      "Retrieving beira weather data\n",
      "Retrieving mubende weather data\n",
      "Retrieving sterling weather data\n",
      "Retrieving lingyuan weather data\n",
      "Retrieving kuching weather data\n",
      "Retrieving olinda weather data\n",
      "Retrieving tamandare weather data\n",
      "Retrieving areosa weather data\n",
      "Retrieving bhatapara weather data\n",
      "City not found.  Skipping and going to next city.\n",
      "Retrieving amapa weather data\n",
      "Retrieving camana weather data\n",
      "Retrieving kenai weather data\n",
      "Retrieving mkushi weather data\n",
      "Retrieving sokoni weather data\n",
      "Retrieving dali weather data\n",
      "Retrieving winnemucca weather data\n",
      "Retrieving fort dodge weather data\n",
      "Retrieving batticaloa weather data\n",
      "Retrieving quechultenango weather data\n",
      "City not found.  Skipping and going to next city.\n",
      "Retrieving igrim weather data\n",
      "Retrieving klaksvik weather data\n",
      "Retrieving camingawan weather data\n",
      "Retrieving requena weather data\n",
      "Retrieving esterhazy weather data\n",
      "Retrieving mayumba weather data\n",
      "Retrieving gusinoye ozero weather data\n",
      "City not found.  Skipping and going to next city.\n",
      "Retrieving kirovsk weather data\n",
      "Retrieving san joaquin weather data\n",
      "Retrieving springbok weather data\n",
      "Retrieving pamekasan weather data\n",
      "Retrieving tazovskiy weather data\n",
      "Retrieving imbituba weather data\n",
      "Retrieving vuktyl weather data\n",
      "Retrieving hopfgarten weather data\n",
      "Retrieving chateaudun weather data\n",
      "Retrieving la palma weather data\n",
      "Retrieving misratah weather data\n",
      "Retrieving qui nhon weather data\n",
      "Retrieving yerbogachen weather data\n",
      "Retrieving hue weather data\n",
      "Retrieving phan thiet weather data\n",
      "Retrieving yining weather data\n",
      "Retrieving guerrero negro weather data\n",
      "Retrieving mandalgovi weather data\n",
      "Retrieving balkanabat weather data\n",
      "Retrieving sur weather data\n",
      "Retrieving gaziantep weather data\n",
      "Retrieving burshtyn weather data\n",
      "Retrieving keokuk weather data\n",
      "Retrieving burnie weather data\n",
      "Retrieving antofagasta weather data\n",
      "Retrieving pedasi weather data\n",
      "Retrieving myingyan weather data\n",
      "Retrieving simpang empat weather data\n",
      "Retrieving komsomolskiy weather data\n",
      "Retrieving okha weather data\n",
      "Retrieving mount gambier weather data\n",
      "Retrieving magadan weather data\n",
      "Retrieving bathsheba weather data\n",
      "Retrieving strichen weather data\n",
      "Retrieving ahipara weather data\n",
      "Retrieving ust-koksa weather data\n",
      "Retrieving nampula weather data\n",
      "Retrieving talcahuano weather data\n",
      "Retrieving lata weather data\n",
      "Retrieving itacarambi weather data\n",
      "Retrieving west fargo weather data\n",
      "City not found.  Skipping and going to next city.\n",
      "Retrieving kastamonu weather data\n",
      "City not found.  Skipping and going to next city.\n",
      "Retrieving sao jose da coroa grande weather data\n",
      "Retrieving levelland weather data\n",
      "Retrieving erzurum weather data\n",
      "Retrieving cordoba weather data\n",
      "Retrieving ohangaron weather data\n",
      "Retrieving touros weather data\n",
      "Retrieving saquarema weather data\n",
      "Retrieving wanning weather data\n",
      "Retrieving kjollefjord weather data\n",
      "Retrieving xingyi weather data\n",
      "Retrieving fort nelson weather data\n",
      "Retrieving springfield weather data\n",
      "Retrieving mezen weather data\n",
      "Retrieving snasa weather data\n",
      "Retrieving xai-xai weather data\n",
      "Retrieving gucheng weather data\n",
      "City not found.  Skipping and going to next city.\n",
      "Retrieving vardo weather data\n",
      "Retrieving sobolevo weather data\n"
     ]
    }
   ],
   "source": [
    "#Request Weather Data on each city in list cities\n",
    "base_url = \"http://api.openweathermap.org/data/2.5/weather?units=Imperial&appid=\"\n",
    "city_name = []\n",
    "city_lat = []\n",
    "city_lon = []\n",
    "city_temp = []\n",
    "city_humidity = []\n",
    "city_wind_speed = []\n",
    "city_cloudiness = []\n",
    "\n",
    "#Use try/except code to skip broken url's\n",
    "\n",
    "for city in cities:\n",
    "    try:\n",
    "        query_url = base_url + weather_api_key + \"&q=\" + city\n",
    "        weather_response = requests.get(query_url).json()\n",
    "        city_name.append(weather_response[\"name\"])\n",
    "        city_lat.append(weather_response[\"coord\"][\"lat\"])\n",
    "        city_lon.append(weather_response[\"coord\"][\"lon\"])\n",
    "        city_temp.append(weather_response[\"main\"][\"temp\"])\n",
    "        city_humidity.append(weather_response[\"main\"][\"humidity\"])\n",
    "        city_wind_speed.append(weather_response[\"wind\"][\"speed\"])\n",
    "        city_cloudiness.append(weather_response[\"clouds\"][\"all\"])\n",
    "        print(f\"Retrieving {city} weather data\")\n",
    "    except:\n",
    "        print(f\"City not found.  Skipping and going to next city.\")\n",
    "    pass\n",
    "\n",
    "    \n",
    "\n"
   ]
  },
  {
   "cell_type": "markdown",
   "metadata": {},
   "source": [
    "### Convert Raw Data to DataFrame\n",
    "* Export the city data into a .csv.\n",
    "* Display the DataFrame"
   ]
  },
  {
   "cell_type": "code",
   "execution_count": 25,
   "metadata": {},
   "outputs": [],
   "source": [
    "#Convert City Weather Data into Dictionary\n",
    "city_dict = {\n",
    "    \"City Name\": city_name,\n",
    "    \"Latitude\": city_lat,\n",
    "    \"Longitude\": city_lon,\n",
    "    \"Temperature\": city_temp,\n",
    "    \"Humidity\": city_humidity,\n",
    "    \"Wind Speed\": city_wind_speed,\n",
    "    \"Cloudiness\": city_cloudiness\n",
    "            }"
   ]
  },
  {
   "cell_type": "code",
   "execution_count": 26,
   "metadata": {},
   "outputs": [
    {
     "data": {
      "text/html": [
       "<div>\n",
       "<style scoped>\n",
       "    .dataframe tbody tr th:only-of-type {\n",
       "        vertical-align: middle;\n",
       "    }\n",
       "\n",
       "    .dataframe tbody tr th {\n",
       "        vertical-align: top;\n",
       "    }\n",
       "\n",
       "    .dataframe thead th {\n",
       "        text-align: right;\n",
       "    }\n",
       "</style>\n",
       "<table border=\"1\" class=\"dataframe\">\n",
       "  <thead>\n",
       "    <tr style=\"text-align: right;\">\n",
       "      <th></th>\n",
       "      <th>City Name</th>\n",
       "      <th>Latitude</th>\n",
       "      <th>Longitude</th>\n",
       "      <th>Temperature</th>\n",
       "      <th>Humidity</th>\n",
       "      <th>Wind Speed</th>\n",
       "      <th>Cloudiness</th>\n",
       "    </tr>\n",
       "  </thead>\n",
       "  <tbody>\n",
       "    <tr>\n",
       "      <th>0</th>\n",
       "      <td>Brae</td>\n",
       "      <td>60.40</td>\n",
       "      <td>-1.35</td>\n",
       "      <td>46.40</td>\n",
       "      <td>87</td>\n",
       "      <td>9.17</td>\n",
       "      <td>20</td>\n",
       "    </tr>\n",
       "    <tr>\n",
       "      <th>1</th>\n",
       "      <td>Isangel</td>\n",
       "      <td>-19.55</td>\n",
       "      <td>169.27</td>\n",
       "      <td>87.80</td>\n",
       "      <td>58</td>\n",
       "      <td>13.87</td>\n",
       "      <td>40</td>\n",
       "    </tr>\n",
       "    <tr>\n",
       "      <th>2</th>\n",
       "      <td>Bredasdorp</td>\n",
       "      <td>-34.53</td>\n",
       "      <td>20.04</td>\n",
       "      <td>50.00</td>\n",
       "      <td>87</td>\n",
       "      <td>5.82</td>\n",
       "      <td>0</td>\n",
       "    </tr>\n",
       "    <tr>\n",
       "      <th>3</th>\n",
       "      <td>Kruisfontein</td>\n",
       "      <td>-34.00</td>\n",
       "      <td>24.73</td>\n",
       "      <td>57.00</td>\n",
       "      <td>93</td>\n",
       "      <td>1.99</td>\n",
       "      <td>1</td>\n",
       "    </tr>\n",
       "    <tr>\n",
       "      <th>4</th>\n",
       "      <td>Riverton</td>\n",
       "      <td>40.52</td>\n",
       "      <td>-111.94</td>\n",
       "      <td>30.45</td>\n",
       "      <td>86</td>\n",
       "      <td>10.29</td>\n",
       "      <td>90</td>\n",
       "    </tr>\n",
       "  </tbody>\n",
       "</table>\n",
       "</div>"
      ],
      "text/plain": [
       "      City Name  Latitude  Longitude  Temperature  Humidity  Wind Speed  \\\n",
       "0          Brae     60.40      -1.35        46.40        87        9.17   \n",
       "1       Isangel    -19.55     169.27        87.80        58       13.87   \n",
       "2    Bredasdorp    -34.53      20.04        50.00        87        5.82   \n",
       "3  Kruisfontein    -34.00      24.73        57.00        93        1.99   \n",
       "4      Riverton     40.52    -111.94        30.45        86       10.29   \n",
       "\n",
       "   Cloudiness  \n",
       "0          20  \n",
       "1          40  \n",
       "2           0  \n",
       "3           1  \n",
       "4          90  "
      ]
     },
     "execution_count": 26,
     "metadata": {},
     "output_type": "execute_result"
    }
   ],
   "source": [
    "#Convert City Dictionary into a Dataframe\n",
    "city_df = pd.DataFrame(city_dict)\n",
    "city_df.head()"
   ]
  },
  {
   "cell_type": "code",
   "execution_count": 27,
   "metadata": {},
   "outputs": [],
   "source": [
    "#Save City Dataframe as a CSV File in output_data directory\n",
    "city_df.to_csv(\"output_data/cities.csv\")"
   ]
  },
  {
   "cell_type": "markdown",
   "metadata": {},
   "source": [
    "## Inspect the data and remove the cities where the humidity > 100%.\n",
    "----\n",
    "Skip this step if there are no cities that have humidity > 100%. "
   ]
  },
  {
   "cell_type": "code",
   "execution_count": 28,
   "metadata": {},
   "outputs": [
    {
     "data": {
      "text/plain": [
       "0"
      ]
     },
     "execution_count": 28,
     "metadata": {},
     "output_type": "execute_result"
    }
   ],
   "source": [
    "#  Check for cities with Humidity over 100%\n",
    "humid_check_df = city_df[city_df[\"Humidity\"] > 100]\n",
    "len(humid_check_df)"
   ]
  },
  {
   "cell_type": "markdown",
   "metadata": {},
   "source": [
    "## Plotting the Data\n",
    "* Use proper labeling of the plots using plot titles (including date of analysis) and axes labels.\n",
    "* Save the plotted figures as .pngs."
   ]
  },
  {
   "cell_type": "markdown",
   "metadata": {},
   "source": [
    "## Latitude vs. Temperature Plot"
   ]
  },
  {
   "cell_type": "code",
   "execution_count": 29,
   "metadata": {
    "scrolled": true
   },
   "outputs": [
    {
     "data": {
      "image/png": "[encoded data removed]",
      "text/plain": [
       "<Figure size 432x288 with 1 Axes>"
      ]
     },
     "metadata": {
      "needs_background": "light"
     },
     "output_type": "display_data"
    }
   ],
   "source": [
    "#Plot City Latitude vs. City Temperature and Save as PNG File\n",
    "plt.scatter(city_df[\"Latitude\"], city_df[\"Temperature\"], marker = \"o\")\n",
    "plt.savefig(\"output_data/latitude_temperature.png\")\n",
    "plt.show()"
   ]
  },
  {
   "cell_type": "code",
   "execution_count": 30,
   "metadata": {},
   "outputs": [
    {
     "data": {
      "image/png": "[encoded data removed]",
      "text/plain": [
       "<Figure size 432x288 with 1 Axes>"
      ]
     },
     "metadata": {
      "needs_background": "light"
     },
     "output_type": "display_data"
    }
   ],
   "source": [
    "#Plot City Latitude vs. City Humidity and save as PNG File\n",
    "plt.scatter(city_df[\"Latitude\"], city_df[\"Humidity\"], marker = \"o\")\n",
    "plt.savefig(\"output_data/latitude_humidity.png\")\n",
    "plt.show()"
   ]
  },
  {
   "cell_type": "code",
   "execution_count": 31,
   "metadata": {},
   "outputs": [
    {
     "data": {
      "image/png": "[encoded data removed]",
      "text/plain": [
       "<Figure size 432x288 with 1 Axes>"
      ]
     },
     "metadata": {
      "needs_background": "light"
     },
     "output_type": "display_data"
    }
   ],
   "source": [
    "#Plot City Latitude vs. City Cloudiness and save as PNG File\n",
    "plt.scatter(city_df[\"Latitude\"], city_df[\"Cloudiness\"], marker = \"o\")\n",
    "plt.savefig(\"output_data/latitude_cloudiness.png\")\n",
    "plt.show()"
   ]
  },
  {
   "cell_type": "code",
   "execution_count": 32,
   "metadata": {
    "scrolled": false
   },
   "outputs": [
    {
     "data": {
      "image/png": "[encoded data removed]",
      "text/plain": [
       "<Figure size 432x288 with 1 Axes>"
      ]
     },
     "metadata": {
      "needs_background": "light"
     },
     "output_type": "display_data"
    }
   ],
   "source": [
    "#Plot City Latitude vs. City Windspeed and save as PNG File\n",
    "plt.scatter(city_df[\"Latitude\"], city_df[\"Wind Speed\"], marker = \"o\")\n",
    "plt.savefig(\"output_data/latitude_windspeed.png\")\n",
    "plt.show()"
   ]
  },
  {
   "cell_type": "markdown",
   "metadata": {},
   "source": [
    "Linear Regression"
   ]
  },
  {
   "cell_type": "code",
   "execution_count": 33,
   "metadata": {},
   "outputs": [
    {
     "data": {
      "text/html": [
       "<div>\n",
       "<style scoped>\n",
       "    .dataframe tbody tr th:only-of-type {\n",
       "        vertical-align: middle;\n",
       "    }\n",
       "\n",
       "    .dataframe tbody tr th {\n",
       "        vertical-align: top;\n",
       "    }\n",
       "\n",
       "    .dataframe thead th {\n",
       "        text-align: right;\n",
       "    }\n",
       "</style>\n",
       "<table border=\"1\" class=\"dataframe\">\n",
       "  <thead>\n",
       "    <tr style=\"text-align: right;\">\n",
       "      <th></th>\n",
       "      <th>City Name</th>\n",
       "      <th>Latitude</th>\n",
       "      <th>Longitude</th>\n",
       "      <th>Temperature</th>\n",
       "      <th>Humidity</th>\n",
       "      <th>Wind Speed</th>\n",
       "      <th>Cloudiness</th>\n",
       "    </tr>\n",
       "  </thead>\n",
       "  <tbody>\n",
       "    <tr>\n",
       "      <th>0</th>\n",
       "      <td>Brae</td>\n",
       "      <td>60.40</td>\n",
       "      <td>-1.35</td>\n",
       "      <td>46.40</td>\n",
       "      <td>87</td>\n",
       "      <td>9.17</td>\n",
       "      <td>20</td>\n",
       "    </tr>\n",
       "    <tr>\n",
       "      <th>4</th>\n",
       "      <td>Riverton</td>\n",
       "      <td>40.52</td>\n",
       "      <td>-111.94</td>\n",
       "      <td>30.45</td>\n",
       "      <td>86</td>\n",
       "      <td>10.29</td>\n",
       "      <td>90</td>\n",
       "    </tr>\n",
       "    <tr>\n",
       "      <th>9</th>\n",
       "      <td>Dingle</td>\n",
       "      <td>11.00</td>\n",
       "      <td>122.67</td>\n",
       "      <td>82.96</td>\n",
       "      <td>79</td>\n",
       "      <td>14.25</td>\n",
       "      <td>100</td>\n",
       "    </tr>\n",
       "    <tr>\n",
       "      <th>10</th>\n",
       "      <td>Chizhou</td>\n",
       "      <td>30.66</td>\n",
       "      <td>117.48</td>\n",
       "      <td>41.29</td>\n",
       "      <td>57</td>\n",
       "      <td>9.64</td>\n",
       "      <td>0</td>\n",
       "    </tr>\n",
       "    <tr>\n",
       "      <th>12</th>\n",
       "      <td>Butaritari</td>\n",
       "      <td>3.07</td>\n",
       "      <td>172.79</td>\n",
       "      <td>82.58</td>\n",
       "      <td>79</td>\n",
       "      <td>18.63</td>\n",
       "      <td>74</td>\n",
       "    </tr>\n",
       "  </tbody>\n",
       "</table>\n",
       "</div>"
      ],
      "text/plain": [
       "     City Name  Latitude  Longitude  Temperature  Humidity  Wind Speed  \\\n",
       "0         Brae     60.40      -1.35        46.40        87        9.17   \n",
       "4     Riverton     40.52    -111.94        30.45        86       10.29   \n",
       "9       Dingle     11.00     122.67        82.96        79       14.25   \n",
       "10     Chizhou     30.66     117.48        41.29        57        9.64   \n",
       "12  Butaritari      3.07     172.79        82.58        79       18.63   \n",
       "\n",
       "    Cloudiness  \n",
       "0           20  \n",
       "4           90  \n",
       "9          100  \n",
       "10           0  \n",
       "12          74  "
      ]
     },
     "execution_count": 33,
     "metadata": {},
     "output_type": "execute_result"
    }
   ],
   "source": [
    "#Create Northern Hemisphere Dataframe\n",
    "northern_df = city_df[city_df[\"Latitude\"] >= 0]\n",
    "northern_df.head()"
   ]
  },
  {
   "cell_type": "code",
   "execution_count": 34,
   "metadata": {
    "scrolled": true
   },
   "outputs": [
    {
     "data": {
      "text/html": [
       "<div>\n",
       "<style scoped>\n",
       "    .dataframe tbody tr th:only-of-type {\n",
       "        vertical-align: middle;\n",
       "    }\n",
       "\n",
       "    .dataframe tbody tr th {\n",
       "        vertical-align: top;\n",
       "    }\n",
       "\n",
       "    .dataframe thead th {\n",
       "        text-align: right;\n",
       "    }\n",
       "</style>\n",
       "<table border=\"1\" class=\"dataframe\">\n",
       "  <thead>\n",
       "    <tr style=\"text-align: right;\">\n",
       "      <th></th>\n",
       "      <th>City Name</th>\n",
       "      <th>Latitude</th>\n",
       "      <th>Longitude</th>\n",
       "      <th>Temperature</th>\n",
       "      <th>Humidity</th>\n",
       "      <th>Wind Speed</th>\n",
       "      <th>Cloudiness</th>\n",
       "    </tr>\n",
       "  </thead>\n",
       "  <tbody>\n",
       "    <tr>\n",
       "      <th>1</th>\n",
       "      <td>Isangel</td>\n",
       "      <td>-19.55</td>\n",
       "      <td>169.27</td>\n",
       "      <td>87.80</td>\n",
       "      <td>58</td>\n",
       "      <td>13.87</td>\n",
       "      <td>40</td>\n",
       "    </tr>\n",
       "    <tr>\n",
       "      <th>2</th>\n",
       "      <td>Bredasdorp</td>\n",
       "      <td>-34.53</td>\n",
       "      <td>20.04</td>\n",
       "      <td>50.00</td>\n",
       "      <td>87</td>\n",
       "      <td>5.82</td>\n",
       "      <td>0</td>\n",
       "    </tr>\n",
       "    <tr>\n",
       "      <th>3</th>\n",
       "      <td>Kruisfontein</td>\n",
       "      <td>-34.00</td>\n",
       "      <td>24.73</td>\n",
       "      <td>57.00</td>\n",
       "      <td>93</td>\n",
       "      <td>1.99</td>\n",
       "      <td>1</td>\n",
       "    </tr>\n",
       "    <tr>\n",
       "      <th>5</th>\n",
       "      <td>Punta Arenas</td>\n",
       "      <td>-53.15</td>\n",
       "      <td>-70.92</td>\n",
       "      <td>48.09</td>\n",
       "      <td>66</td>\n",
       "      <td>33.33</td>\n",
       "      <td>0</td>\n",
       "    </tr>\n",
       "    <tr>\n",
       "      <th>6</th>\n",
       "      <td>Mildura</td>\n",
       "      <td>-34.20</td>\n",
       "      <td>142.15</td>\n",
       "      <td>87.80</td>\n",
       "      <td>31</td>\n",
       "      <td>12.75</td>\n",
       "      <td>77</td>\n",
       "    </tr>\n",
       "  </tbody>\n",
       "</table>\n",
       "</div>"
      ],
      "text/plain": [
       "      City Name  Latitude  Longitude  Temperature  Humidity  Wind Speed  \\\n",
       "1       Isangel    -19.55     169.27        87.80        58       13.87   \n",
       "2    Bredasdorp    -34.53      20.04        50.00        87        5.82   \n",
       "3  Kruisfontein    -34.00      24.73        57.00        93        1.99   \n",
       "5  Punta Arenas    -53.15     -70.92        48.09        66       33.33   \n",
       "6       Mildura    -34.20     142.15        87.80        31       12.75   \n",
       "\n",
       "   Cloudiness  \n",
       "1          40  \n",
       "2           0  \n",
       "3           1  \n",
       "5           0  \n",
       "6          77  "
      ]
     },
     "execution_count": 34,
     "metadata": {},
     "output_type": "execute_result"
    }
   ],
   "source": [
    "#Create Southern Hemisphere Dataframe\n",
    "southern_df = city_df[city_df[\"Latitude\"] < 0]\n",
    "southern_df.head()"
   ]
  },
  {
   "cell_type": "code",
   "execution_count": 35,
   "metadata": {},
   "outputs": [
    {
     "data": {
      "image/png": "[encoded data removed]",
      "text/plain": [
       "<Figure size 432x288 with 1 Axes>"
      ]
     },
     "metadata": {
      "needs_background": "light"
     },
     "output_type": "display_data"
    }
   ],
   "source": [
    "#Northern Hemisphere - Temperature vs. Latitude Linear Regression\n",
    "x_values = northern_df[\"Latitude\"]\n",
    "y_values = northern_df[\"Temperature\"]\n",
    "(slope, intercept, rvalue, pvalue, stderr) = linregress(x_values, y_values)\n",
    "line_eq = \"y= \" + str(round(slope,2)) + \"x + \" + str(round(intercept,2))\n",
    "plt.scatter(x_values, y_values)\n",
    "plt.annotate(line_eq, (6,10), fontsize = 10, color = \"red\")\n",
    "plt.xlabel(\"Latitude\")\n",
    "plt.ylabel(\"Temperature\")\n",
    "plt.show()"
   ]
  },
  {
   "cell_type": "markdown",
   "metadata": {},
   "source": [
    "####  Southern Hemisphere - Max Temp vs. Latitude Linear Regression"
   ]
  },
  {
   "cell_type": "code",
   "execution_count": 36,
   "metadata": {},
   "outputs": [
    {
     "data": {
      "image/png": "[encoded data removed]",
      "text/plain": [
       "<Figure size 432x288 with 1 Axes>"
      ]
     },
     "metadata": {
      "needs_background": "light"
     },
     "output_type": "display_data"
    }
   ],
   "source": [
    "#Southern Hemisphere - Temperature vs. Latitude Linear Regression\n",
    "x_values = southern_df[\"Latitude\"]\n",
    "y_values = southern_df[\"Temperature\"]\n",
    "(slope, intercept, rvalue, pvalue, stderr) = linregress(x_values, y_values)\n",
    "line_eq = \"y= \" + str(round(slope,2)) + \"x + \" + str(round(intercept,2))\n",
    "plt.scatter(x_values, y_values)\n",
    "plt.annotate(line_eq, (6,10), fontsize = 10, color = \"red\")\n",
    "plt.xlabel(\"Latitude\")\n",
    "plt.ylabel(\"Temperature\")\n",
    "plt.show()"
   ]
  },
  {
   "cell_type": "code",
   "execution_count": 37,
   "metadata": {},
   "outputs": [
    {
     "data": {
      "image/png": "[encoded data removed]",
      "text/plain": [
       "<Figure size 432x288 with 1 Axes>"
      ]
     },
     "metadata": {
      "needs_background": "light"
     },
     "output_type": "display_data"
    }
   ],
   "source": [
    "#Northern Hemishere - Humidity vs. Latitude Linear Regression\n",
    "x_values = northern_df[\"Latitude\"]\n",
    "y_values = northern_df[\"Humidity\"]\n",
    "(slope, intercept, rvalue, pvalue, stderr) = linregress(x_values, y_values)\n",
    "line_eq = \"y= \" + str(round(slope,2)) + \"x + \" + str(round(intercept,2))\n",
    "plt.scatter(x_values, y_values)\n",
    "plt.annotate(line_eq, (6,10), fontsize = 10, color = \"red\")\n",
    "plt.xlabel(\"Latitude\")\n",
    "plt.ylabel(\"Humidity\")\n",
    "plt.show()"
   ]
  },
  {
   "cell_type": "code",
   "execution_count": 38,
   "metadata": {},
   "outputs": [
    {
     "data": {
      "image/png": "[encoded data removed]",
      "text/plain": [
       "<Figure size 432x288 with 1 Axes>"
      ]
     },
     "metadata": {
      "needs_background": "light"
     },
     "output_type": "display_data"
    }
   ],
   "source": [
    "#Southern Hemishere - Humidity vs. Latitude Linear Regression\n",
    "x_values = southern_df[\"Latitude\"]\n",
    "y_values = southern_df[\"Humidity\"]\n",
    "(slope, intercept, rvalue, pvalue, stderr) = linregress(x_values, y_values)\n",
    "line_eq = \"y= \" + str(round(slope,2)) + \"x + \" + str(round(intercept,2))\n",
    "plt.scatter(x_values, y_values)\n",
    "plt.annotate(line_eq, (6,10), fontsize = 10, color = \"red\")\n",
    "plt.xlabel(\"Latitude\")\n",
    "plt.ylabel(\"Humidity\")\n",
    "plt.show()"
   ]
  },
  {
   "cell_type": "code",
   "execution_count": 39,
   "metadata": {},
   "outputs": [
    {
     "data": {
      "image/png": "[encoded data removed]",
      "text/plain": [
       "<Figure size 432x288 with 1 Axes>"
      ]
     },
     "metadata": {
      "needs_background": "light"
     },
     "output_type": "display_data"
    }
   ],
   "source": [
    "#Northern Hemisphere - Cloudiness vs. Latitude Linear Regression\n",
    "x_values = northern_df[\"Latitude\"]\n",
    "y_values = northern_df[\"Cloudiness\"]\n",
    "(slope, intercept, rvalue, pvalue, stderr) = linregress(x_values, y_values)\n",
    "line_eq = \"y= \" + str(round(slope,2)) + \"x + \" + str(round(intercept,2))\n",
    "plt.scatter(x_values, y_values)\n",
    "plt.annotate(line_eq, (6,10), fontsize = 10, color = \"red\")\n",
    "plt.xlabel(\"Latitude\")\n",
    "plt.ylabel(\"Cloudiness\")\n",
    "plt.show()"
   ]
  },
  {
   "cell_type": "code",
   "execution_count": 40,
   "metadata": {},
   "outputs": [
    {
     "data": {
      "image/png": "[encoded data removed]",
      "text/plain": [
       "<Figure size 432x288 with 1 Axes>"
      ]
     },
     "metadata": {
      "needs_background": "light"
     },
     "output_type": "display_data"
    }
   ],
   "source": [
    "#Southern Hemisphere - Cloudiness vs. Latitude Linear Regression\n",
    "x_values = southern_df[\"Latitude\"]\n",
    "y_values = southern_df[\"Cloudiness\"]\n",
    "(slope, intercept, rvalue, pvalue, stderr) = linregress(x_values, y_values)\n",
    "line_eq = \"y= \" + str(round(slope,2)) + \"x + \" + str(round(intercept,2))\n",
    "plt.scatter(x_values, y_values)\n",
    "plt.annotate(line_eq, (6,10), fontsize = 10, color = \"red\")\n",
    "plt.xlabel(\"Latitude\")\n",
    "plt.ylabel(\"Cloudiness\")\n",
    "plt.show()"
   ]
  },
  {
   "cell_type": "code",
   "execution_count": 41,
   "metadata": {},
   "outputs": [
    {
     "data": {
      "image/png": "[encoded data removed]",
      "text/plain": [
       "<Figure size 432x288 with 1 Axes>"
      ]
     },
     "metadata": {
      "needs_background": "light"
     },
     "output_type": "display_data"
    }
   ],
   "source": [
    "#Northern Hemisphere - Wind Speed vs. Latitude Linear Regression\n",
    "x_values = northern_df[\"Latitude\"]\n",
    "y_values = northern_df[\"Wind Speed\"]\n",
    "(slope, intercept, rvalue, pvalue, stderr) = linregress(x_values, y_values)\n",
    "line_eq = \"y= \" + str(round(slope,2)) + \"x + \" + str(round(intercept,2))\n",
    "plt.scatter(x_values, y_values)\n",
    "plt.annotate(line_eq, (6,10), fontsize = 10, color = \"red\")\n",
    "plt.xlabel(\"Latitude\")\n",
    "plt.ylabel(\"Wind Speed\")\n",
    "plt.show()"
   ]
  },
  {
   "cell_type": "code",
   "execution_count": 42,
   "metadata": {},
   "outputs": [
    {
     "data": {
      "image/png": "[encoded data removed]",
      "text/plain": [
       "<Figure size 432x288 with 1 Axes>"
      ]
     },
     "metadata": {
      "needs_background": "light"
     },
     "output_type": "display_data"
    }
   ],
   "source": [
    "#Southern Hemisphere - Wind Speed vs. Latitude Linear Regression\n",
    "x_values = southern_df[\"Latitude\"]\n",
    "y_values = southern_df[\"Wind Speed\"]\n",
    "(slope, intercept, rvalue, pvalue, stderr) = linregress(x_values, y_values)\n",
    "line_eq = \"y= \" + str(round(slope,2)) + \"x + \" + str(round(intercept,2))\n",
    "plt.scatter(x_values, y_values)\n",
    "plt.annotate(line_eq, (6,10), fontsize = 10, color = \"red\")\n",
    "plt.xlabel(\"Latitude\")\n",
    "plt.ylabel(\"Wind Speed\")\n",
    "plt.show()"
   ]
  },
  {
   "cell_type": "code",
   "execution_count": null,
   "metadata": {},
   "outputs": [],
   "source": []
  },
  {
   "cell_type": "code",
   "execution_count": null,
   "metadata": {},
   "outputs": [],
   "source": []
  }
 ],
 "metadata": {
  "anaconda-cloud": {},
  "kernel_info": {
   "name": "python3"
  },
  "kernelspec": {
   "display_name": "Python 3",
   "language": "python",
   "name": "python3"
  },
  "language_info": {
   "codemirror_mode": {
    "name": "ipython",
    "version": 3
   },
   "file_extension": ".py",
   "mimetype": "text/x-python",
   "name": "python",
   "nbconvert_exporter": "python",
   "pygments_lexer": "ipython3",
   "version": "3.8.3"
  },
  "latex_envs": {
   "LaTeX_envs_menu_present": true,
   "autoclose": false,
   "autocomplete": true,
   "bibliofile": "biblio.bib",
   "cite_by": "apalike",
   "current_citInitial": 1,
   "eqLabelWithNumbers": true,
   "eqNumInitial": 1,
   "hotkeys": {
    "equation": "Ctrl-E",
    "itemize": "Ctrl-I"
   },
   "labels_anchors": false,
   "latex_user_defs": false,
   "report_style_numbering": false,
   "user_envs_cfg": false
  },
  "nteract": {
   "version": "0.12.3"
  }
 },
 "nbformat": 4,
 "nbformat_minor": 2
}
