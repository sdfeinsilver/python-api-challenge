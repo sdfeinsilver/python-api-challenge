{
 "cells": [
  {
   "cell_type": "markdown",
   "metadata": {},
   "source": [
    "# WeatherPy\n",
    "----\n",
    "\n",
    "#### Note\n",
    "* Instructions have been included for each segment. You do not have to follow them exactly, but they are included to help you think through the steps."
   ]
  },
  {
   "cell_type": "code",
   "execution_count": 1,
   "metadata": {
    "scrolled": true
   },
   "outputs": [],
   "source": [
    "# Dependencies and Setup\n",
    "import matplotlib.pyplot as plt\n",
    "import pandas as pd\n",
    "import numpy as np\n",
    "import requests\n",
    "import time\n",
    "from scipy.stats import linregress\n",
    "import json\n",
    "\n",
    "# Import API key\n",
    "from api_keys import weather_api_key\n",
    "\n",
    "# Incorporated citipy to determine city based on latitude and longitude\n",
    "from citipy import citipy\n",
    "\n",
    "# Output File (CSV)\n",
    "output_data_file = \"output_data/cities.csv\"\n",
    "\n",
    "# Range of latitudes and longitudes\n",
    "lat_range = (-90, 90)\n",
    "lng_range = (-180, 180)"
   ]
  },
  {
   "cell_type": "markdown",
   "metadata": {},
   "source": [
    "## Generate Cities List"
   ]
  },
  {
   "cell_type": "code",
   "execution_count": 2,
   "metadata": {},
   "outputs": [
    {
     "data": {
      "text/plain": [
       "627"
      ]
     },
     "execution_count": 2,
     "metadata": {},
     "output_type": "execute_result"
    }
   ],
   "source": [
    "# List for holding lat_lngs and cities\n",
    "lat_lngs = []\n",
    "cities = []\n",
    "\n",
    "# Create a set of random lat and lng combinations\n",
    "lats = np.random.uniform(lat_range[0], lat_range[1], size=1500)\n",
    "lngs = np.random.uniform(lng_range[0], lng_range[1], size=1500)\n",
    "lat_lngs = zip(lats, lngs)\n",
    "\n",
    "# Identify nearest city for each lat, lng combination\n",
    "for lat_lng in lat_lngs:\n",
    "    city = citipy.nearest_city(lat_lng[0], lat_lng[1]).city_name\n",
    "    \n",
    "    # If the city is unique, then add it to a our cities list\n",
    "    if city not in cities:\n",
    "        cities.append(city)\n",
    "\n",
    "# Print the city count to confirm sufficient count\n",
    "len(cities)"
   ]
  },
  {
   "cell_type": "markdown",
   "metadata": {},
   "source": [
    "### Perform API Calls\n",
    "* Perform a weather check on each city using a series of successive API calls.\n",
    "* Include a print log of each city as it'sbeing processed (with the city number and city name).\n"
   ]
  },
  {
   "cell_type": "code",
   "execution_count": 3,
   "metadata": {
    "scrolled": false
   },
   "outputs": [
    {
     "name": "stdout",
     "output_type": "stream",
     "text": [
      "Retrieving atuona weather data\n",
      "City not found.  Skipping and going to next city.\n",
      "Retrieving brae weather data\n",
      "Retrieving rikitea weather data\n",
      "Retrieving namie weather data\n",
      "Retrieving ushuaia weather data\n",
      "Retrieving shahrud weather data\n",
      "Retrieving albany weather data\n",
      "City not found.  Skipping and going to next city.\n",
      "Retrieving torbay weather data\n",
      "Retrieving kupang weather data\n",
      "Retrieving khatanga weather data\n",
      "Retrieving chokurdakh weather data\n",
      "Retrieving poum weather data\n",
      "Retrieving avarua weather data\n",
      "Retrieving guiguinto weather data\n",
      "Retrieving charters towers weather data\n",
      "Retrieving butaritari weather data\n",
      "Retrieving busselton weather data\n",
      "Retrieving husavik weather data\n",
      "Retrieving saint george weather data\n",
      "Retrieving hilo weather data\n",
      "Retrieving new milford weather data\n",
      "Retrieving coahuayana weather data\n",
      "Retrieving castro weather data\n",
      "Retrieving new norfolk weather data\n",
      "Retrieving yanam weather data\n",
      "Retrieving hobart weather data\n",
      "Retrieving port alfred weather data\n",
      "Retrieving port elizabeth weather data\n",
      "Retrieving kindu weather data\n",
      "Retrieving kavieng weather data\n",
      "Retrieving mataura weather data\n",
      "Retrieving vila velha weather data\n",
      "Retrieving iqaluit weather data\n",
      "City not found.  Skipping and going to next city.\n",
      "City not found.  Skipping and going to next city.\n",
      "Retrieving salalah weather data\n",
      "Retrieving luderitz weather data\n",
      "Retrieving victoria weather data\n",
      "City not found.  Skipping and going to next city.\n",
      "Retrieving saldanha weather data\n",
      "Retrieving iquitos weather data\n",
      "Retrieving hereford weather data\n",
      "Retrieving fortuna weather data\n",
      "Retrieving halifax weather data\n",
      "Retrieving qaanaaq weather data\n",
      "Retrieving kushima weather data\n",
      "Retrieving port lincoln weather data\n",
      "Retrieving yarmouth weather data\n",
      "Retrieving capreol weather data\n",
      "Retrieving amahai weather data\n",
      "Retrieving jati weather data\n",
      "Retrieving jamestown weather data\n",
      "Retrieving bluff weather data\n",
      "Retrieving barrow weather data\n",
      "Retrieving pevek weather data\n",
      "Retrieving dawson creek weather data\n",
      "Retrieving zvishavane weather data\n",
      "Retrieving parabel weather data\n",
      "Retrieving tiarei weather data\n",
      "Retrieving yellowknife weather data\n",
      "Retrieving mayo weather data\n",
      "City not found.  Skipping and going to next city.\n",
      "Retrieving tyup weather data\n",
      "Retrieving mar del plata weather data\n",
      "Retrieving batak weather data\n",
      "Retrieving hovd weather data\n",
      "Retrieving hermanus weather data\n",
      "Retrieving villa maria weather data\n",
      "Retrieving lebu weather data\n",
      "Retrieving papetoai weather data\n",
      "Retrieving yarim weather data\n",
      "Retrieving morgan city weather data\n",
      "Retrieving yashkul weather data\n",
      "City not found.  Skipping and going to next city.\n",
      "Retrieving pisco weather data\n",
      "Retrieving quatre cocos weather data\n",
      "Retrieving puerto baquerizo moreno weather data\n",
      "Retrieving abu kamal weather data\n",
      "Retrieving maneadero weather data\n",
      "Retrieving roald weather data\n",
      "Retrieving east london weather data\n",
      "Retrieving san patricio weather data\n",
      "Retrieving cabra weather data\n",
      "Retrieving gushikawa weather data\n",
      "Retrieving dingle weather data\n",
      "Retrieving vaini weather data\n",
      "City not found.  Skipping and going to next city.\n",
      "Retrieving laguna weather data\n",
      "Retrieving yakeshi weather data\n",
      "Retrieving oistins weather data\n",
      "Retrieving khani weather data\n",
      "Retrieving tuktoyaktuk weather data\n",
      "Retrieving upernavik weather data\n",
      "Retrieving ponta delgada weather data\n",
      "Retrieving cabo san lucas weather data\n",
      "Retrieving ambon weather data\n",
      "Retrieving traverse city weather data\n",
      "Retrieving coquimbo weather data\n",
      "Retrieving hithadhoo weather data\n",
      "Retrieving marsh harbour weather data\n",
      "Retrieving navirai weather data\n",
      "Retrieving punta arenas weather data\n",
      "Retrieving saskylakh weather data\n",
      "Retrieving wilmington weather data\n",
      "Retrieving ilulissat weather data\n",
      "Retrieving kaitangata weather data\n",
      "Retrieving xaltianguis weather data\n",
      "Retrieving madang weather data\n",
      "Retrieving samarinda weather data\n",
      "Retrieving necochea weather data\n",
      "City not found.  Skipping and going to next city.\n",
      "Retrieving comodoro rivadavia weather data\n",
      "Retrieving launceston weather data\n",
      "Retrieving guerrero negro weather data\n",
      "Retrieving batemans bay weather data\n",
      "Retrieving canyon weather data\n",
      "City not found.  Skipping and going to next city.\n",
      "Retrieving lovozero weather data\n",
      "Retrieving dimbokro weather data\n",
      "City not found.  Skipping and going to next city.\n",
      "Retrieving vila franca do campo weather data\n",
      "Retrieving cape town weather data\n",
      "Retrieving bambous virieux weather data\n",
      "Retrieving nikolskoye weather data\n",
      "Retrieving alice springs weather data\n",
      "Retrieving san carlos de bariloche weather data\n",
      "City not found.  Skipping and going to next city.\n",
      "Retrieving turaiyur weather data\n",
      "Retrieving airai weather data\n",
      "Retrieving northam weather data\n",
      "Retrieving mayumba weather data\n",
      "Retrieving kokkola weather data\n",
      "Retrieving fuzhou weather data\n",
      "Retrieving auki weather data\n",
      "Retrieving korla weather data\n",
      "Retrieving haines junction weather data\n",
      "Retrieving show low weather data\n",
      "Retrieving bredasdorp weather data\n",
      "Retrieving farap weather data\n",
      "Retrieving tasiilaq weather data\n",
      "Retrieving sistranda weather data\n",
      "Retrieving vanimo weather data\n",
      "Retrieving caravelas weather data\n",
      "Retrieving soe weather data\n",
      "Retrieving la seyne-sur-mer weather data\n",
      "Retrieving starkville weather data\n",
      "Retrieving faanui weather data\n",
      "Retrieving porto nacional weather data\n",
      "Retrieving setubal weather data\n",
      "Retrieving pandan weather data\n",
      "Retrieving beringovskiy weather data\n",
      "Retrieving brasileia weather data\n",
      "Retrieving bethel weather data\n",
      "City not found.  Skipping and going to next city.\n",
      "Retrieving ancud weather data\n",
      "Retrieving kapaa weather data\n",
      "Retrieving arraial do cabo weather data\n",
      "Retrieving ahipara weather data\n",
      "Retrieving sungai petani weather data\n",
      "Retrieving mwinilunga weather data\n",
      "Retrieving mogoytuy weather data\n",
      "City not found.  Skipping and going to next city.\n",
      "City not found.  Skipping and going to next city.\n",
      "Retrieving lompoc weather data\n",
      "Retrieving severo-kurilsk weather data\n",
      "Retrieving anloga weather data\n",
      "Retrieving padang weather data\n",
      "Retrieving bengkulu weather data\n",
      "Retrieving lorengau weather data\n",
      "Retrieving carbondale weather data\n",
      "City not found.  Skipping and going to next city.\n",
      "Retrieving miyako weather data\n",
      "Retrieving tuatapere weather data\n",
      "Retrieving warwick weather data\n",
      "Retrieving nebbi weather data\n",
      "Retrieving almenara weather data\n",
      "Retrieving waddan weather data\n",
      "Retrieving atar weather data\n",
      "Retrieving geraldton weather data\n",
      "Retrieving camacha weather data\n",
      "Retrieving klamath falls weather data\n",
      "Retrieving kabalo weather data\n",
      "Retrieving itanhaem weather data\n",
      "Retrieving constitucion weather data\n",
      "Retrieving urucui weather data\n",
      "Retrieving kununurra weather data\n",
      "Retrieving sanary-sur-mer weather data\n",
      "Retrieving inhambane weather data\n",
      "Retrieving lavrentiya weather data\n",
      "Retrieving kalmunai weather data\n",
      "Retrieving gizo weather data\n",
      "Retrieving santa rosa weather data\n",
      "Retrieving tyumentsevo weather data\n",
      "Retrieving saint-philippe weather data\n",
      "Retrieving humaita weather data\n",
      "Retrieving ponta do sol weather data\n",
      "Retrieving norman wells weather data\n",
      "Retrieving ibadan weather data\n",
      "Retrieving santa flavia weather data\n",
      "Retrieving margate weather data\n",
      "Retrieving mehamn weather data\n",
      "Retrieving georgetown weather data\n",
      "Retrieving aklavik weather data\n",
      "City not found.  Skipping and going to next city.\n",
      "Retrieving san cristobal weather data\n",
      "Retrieving ola weather data\n",
      "Retrieving iseyin weather data\n",
      "Retrieving moron weather data\n",
      "Retrieving aden weather data\n",
      "Retrieving saint anthony weather data\n",
      "Retrieving kasongo-lunda weather data\n",
      "Retrieving ribeira grande weather data\n",
      "Retrieving provideniya weather data\n",
      "Retrieving moerai weather data\n",
      "Retrieving hasaki weather data\n",
      "Retrieving rincon weather data\n",
      "Retrieving talara weather data\n",
      "Retrieving mayya weather data\n",
      "Retrieving tautira weather data\n",
      "Retrieving barra patuca weather data\n",
      "Retrieving porto belo weather data\n",
      "Retrieving pinawa weather data\n",
      "Retrieving vardo weather data\n",
      "Retrieving olafsvik weather data\n",
      "Retrieving hargeysa weather data\n",
      "Retrieving dharmadam weather data\n",
      "Retrieving clyde river weather data\n",
      "Retrieving nanortalik weather data\n",
      "Retrieving cayenne weather data\n",
      "Retrieving boca do acre weather data\n",
      "Retrieving chaihe weather data\n",
      "City not found.  Skipping and going to next city.\n",
      "Retrieving coihaique weather data\n",
      "Retrieving chuy weather data\n",
      "Retrieving namibe weather data\n"
     ]
    },
    {
     "name": "stdout",
     "output_type": "stream",
     "text": [
      "Retrieving plettenberg bay weather data\n",
      "City not found.  Skipping and going to next city.\n",
      "City not found.  Skipping and going to next city.\n",
      "Retrieving mogapi weather data\n",
      "Retrieving marsa matruh weather data\n",
      "Retrieving tateyama weather data\n",
      "Retrieving talnakh weather data\n",
      "Retrieving berdigestyakh weather data\n",
      "Retrieving miguelopolis weather data\n",
      "Retrieving angoram weather data\n",
      "Retrieving port hardy weather data\n",
      "Retrieving kamenskiy weather data\n",
      "Retrieving hambantota weather data\n",
      "Retrieving kudahuvadhoo weather data\n",
      "Retrieving te anau weather data\n",
      "Retrieving newport weather data\n",
      "Retrieving vestmannaeyjar weather data\n",
      "Retrieving sayyan weather data\n",
      "Retrieving acapulco weather data\n",
      "Retrieving hay river weather data\n",
      "Retrieving wanning weather data\n",
      "Retrieving fallon weather data\n",
      "Retrieving paita weather data\n",
      "Retrieving conde weather data\n",
      "Retrieving tezu weather data\n",
      "Retrieving pueblo nuevo weather data\n",
      "City not found.  Skipping and going to next city.\n",
      "Retrieving odesskoye weather data\n",
      "Retrieving meulaboh weather data\n",
      "Retrieving coruripe weather data\n",
      "Retrieving tiksi weather data\n",
      "Retrieving new baltimore weather data\n",
      "Retrieving port blair weather data\n",
      "Retrieving puerto ayora weather data\n",
      "Retrieving esperance weather data\n",
      "Retrieving milkovo weather data\n",
      "Retrieving dikson weather data\n",
      "Retrieving kasiri weather data\n",
      "Retrieving cockburn town weather data\n",
      "Retrieving ust-tarka weather data\n",
      "Retrieving kahului weather data\n",
      "Retrieving manali weather data\n",
      "Retrieving kingsville weather data\n",
      "Retrieving dwarka weather data\n",
      "Retrieving lata weather data\n",
      "Retrieving chara weather data\n",
      "Retrieving carovigno weather data\n",
      "Retrieving raudeberg weather data\n",
      "City not found.  Skipping and going to next city.\n",
      "Retrieving haverfordwest weather data\n",
      "Retrieving koutiala weather data\n",
      "Retrieving hutchinson weather data\n",
      "Retrieving champerico weather data\n",
      "Retrieving beloha weather data\n",
      "Retrieving ouallam weather data\n",
      "Retrieving fort nelson weather data\n",
      "City not found.  Skipping and going to next city.\n",
      "Retrieving namuac weather data\n",
      "Retrieving turayf weather data\n",
      "Retrieving kuching weather data\n",
      "Retrieving riyadh weather data\n",
      "Retrieving san jeronimo weather data\n",
      "Retrieving dakar weather data\n",
      "Retrieving paamiut weather data\n",
      "Retrieving dzilam gonzalez weather data\n",
      "Retrieving gambela weather data\n",
      "Retrieving black river weather data\n",
      "Retrieving de-kastri weather data\n",
      "Retrieving lodwar weather data\n",
      "Retrieving port-gentil weather data\n",
      "Retrieving itarema weather data\n",
      "Retrieving komsomolskiy weather data\n",
      "Retrieving mangrol weather data\n",
      "City not found.  Skipping and going to next city.\n",
      "Retrieving omsukchan weather data\n",
      "Retrieving kaa-khem weather data\n",
      "Retrieving civitavecchia weather data\n",
      "Retrieving kuytun weather data\n",
      "Retrieving logrono weather data\n",
      "Retrieving flinders weather data\n",
      "Retrieving eyl weather data\n",
      "Retrieving tampakan weather data\n",
      "Retrieving port augusta weather data\n",
      "City not found.  Skipping and going to next city.\n",
      "City not found.  Skipping and going to next city.\n",
      "Retrieving la huerta weather data\n",
      "Retrieving thompson weather data\n",
      "Retrieving antalaha weather data\n",
      "Retrieving banska bystrica weather data\n",
      "Retrieving san ramon weather data\n",
      "Retrieving karpathos weather data\n",
      "Retrieving marrakesh weather data\n",
      "Retrieving joaima weather data\n",
      "Retrieving sao filipe weather data\n",
      "Retrieving ternovka weather data\n",
      "Retrieving lakatoro weather data\n",
      "Retrieving mahenge weather data\n",
      "Retrieving pietersburg weather data\n",
      "Retrieving yeppoon weather data\n",
      "City not found.  Skipping and going to next city.\n",
      "Retrieving cherskiy weather data\n",
      "Retrieving west wendover weather data\n",
      "Retrieving skibbereen weather data\n",
      "Retrieving tura weather data\n",
      "Retrieving saint-francois weather data\n",
      "Retrieving peniche weather data\n",
      "Retrieving pafos weather data\n",
      "City not found.  Skipping and going to next city.\n",
      "Retrieving chifeng weather data\n",
      "Retrieving belorechensk weather data\n",
      "Retrieving bathsheba weather data\n",
      "Retrieving daru weather data\n",
      "Retrieving gigmoto weather data\n",
      "City not found.  Skipping and going to next city.\n",
      "Retrieving affery weather data\n",
      "Retrieving kavaratti weather data\n",
      "Retrieving kruisfontein weather data\n",
      "Retrieving conceicao da barra weather data\n",
      "Retrieving altay weather data\n",
      "City not found.  Skipping and going to next city.\n",
      "City not found.  Skipping and going to next city.\n",
      "Retrieving saint-augustin weather data\n",
      "Retrieving kamaishi weather data\n",
      "Retrieving lasa weather data\n",
      "Retrieving alofi weather data\n",
      "Retrieving amapa weather data\n",
      "City not found.  Skipping and going to next city.\n",
      "Retrieving rosario weather data\n",
      "Retrieving forbes weather data\n",
      "Retrieving ciudad bolivar weather data\n",
      "Retrieving buin weather data\n",
      "Retrieving tchibanga weather data\n",
      "Retrieving vestmanna weather data\n",
      "Retrieving turkistan weather data\n",
      "City not found.  Skipping and going to next city.\n",
      "Retrieving martyush weather data\n",
      "Retrieving sibolga weather data\n",
      "City not found.  Skipping and going to next city.\n",
      "Retrieving fengcheng weather data\n",
      "Retrieving mareeba weather data\n",
      "Retrieving berlevag weather data\n",
      "Retrieving jalu weather data\n",
      "Retrieving okoneshnikovo weather data\n",
      "City not found.  Skipping and going to next city.\n",
      "Retrieving phuthaditjhaba weather data\n",
      "Retrieving ekhabi weather data\n",
      "Retrieving prince rupert weather data\n",
      "Retrieving karratha weather data\n",
      "Retrieving rawson weather data\n",
      "Retrieving ajdabiya weather data\n",
      "Retrieving emerald weather data\n",
      "City not found.  Skipping and going to next city.\n",
      "Retrieving porto walter weather data\n",
      "Retrieving ternate weather data\n",
      "Retrieving tommot weather data\n",
      "Retrieving san angelo weather data\n",
      "Retrieving villaviciosa weather data\n",
      "Retrieving waipawa weather data\n",
      "Retrieving codrington weather data\n",
      "Retrieving okhotsk weather data\n",
      "Retrieving figeac weather data\n",
      "City not found.  Skipping and going to next city.\n",
      "Retrieving kuzino weather data\n",
      "Retrieving loubomo weather data\n",
      "Retrieving ipixuna weather data\n",
      "Retrieving manta weather data\n",
      "Retrieving sobolevo weather data\n",
      "Retrieving pemangkat weather data\n",
      "Retrieving nome weather data\n",
      "Retrieving visnes weather data\n",
      "Retrieving erzin weather data\n",
      "Retrieving kodiak weather data\n",
      "Retrieving vangaindrano weather data\n",
      "Retrieving sisimiut weather data\n",
      "Retrieving raga weather data\n",
      "Retrieving kerema weather data\n",
      "Retrieving leh weather data\n",
      "Retrieving san policarpo weather data\n",
      "Retrieving matay weather data\n",
      "Retrieving sur weather data\n",
      "Retrieving kirakira weather data\n",
      "Retrieving salinopolis weather data\n",
      "Retrieving malanje weather data\n",
      "Retrieving ludwigslust weather data\n",
      "Retrieving preeceville weather data\n",
      "Retrieving marawi weather data\n",
      "Retrieving cidreira weather data\n",
      "Retrieving santiago weather data\n",
      "Retrieving bulgan weather data\n",
      "Retrieving palauig weather data\n",
      "Retrieving sao jose da coroa grande weather data\n",
      "City not found.  Skipping and going to next city.\n",
      "Retrieving warrnambool weather data\n",
      "Retrieving kulu weather data\n",
      "Retrieving maraa weather data\n",
      "Retrieving muhos weather data\n",
      "Retrieving longyearbyen weather data\n",
      "Retrieving san vicente weather data\n",
      "Retrieving saint-pierre weather data\n",
      "Retrieving goderich weather data\n",
      "City not found.  Skipping and going to next city.\n",
      "Retrieving carutapera weather data\n",
      "Retrieving uinskoye weather data\n",
      "Retrieving namatanai weather data\n",
      "Retrieving whyalla weather data\n",
      "Retrieving hundorp weather data\n",
      "Retrieving avila weather data\n",
      "Retrieving abu samrah weather data\n",
      "Retrieving cervo weather data\n",
      "Retrieving garowe weather data\n",
      "Retrieving hamilton weather data\n",
      "Retrieving hofn weather data\n",
      "Retrieving ewa beach weather data\n",
      "Retrieving buraydah weather data\n",
      "Retrieving seoul weather data\n",
      "Retrieving koumra weather data\n",
      "Retrieving leningradskiy weather data\n",
      "Retrieving tongliao weather data\n",
      "Retrieving shuyskoye weather data\n",
      "Retrieving mabaruma weather data\n",
      "Retrieving redlands weather data\n",
      "Retrieving etchojoa weather data\n",
      "Retrieving baykit weather data\n",
      "Retrieving mananjary weather data\n",
      "City not found.  Skipping and going to next city.\n",
      "Retrieving ardakan weather data\n",
      "Retrieving shubarkuduk weather data\n",
      "Retrieving mount isa weather data\n",
      "Retrieving kenai weather data\n",
      "Retrieving kristiansund weather data\n",
      "Retrieving tambun weather data\n",
      "Retrieving mutoko weather data\n",
      "Retrieving santa isabel do rio negro weather data\n",
      "Retrieving makakilo city weather data\n",
      "Retrieving virginia beach weather data\n"
     ]
    },
    {
     "name": "stdout",
     "output_type": "stream",
     "text": [
      "Retrieving kisangani weather data\n",
      "City not found.  Skipping and going to next city.\n",
      "Retrieving aswan weather data\n",
      "Retrieving kuli weather data\n",
      "Retrieving kargat weather data\n",
      "Retrieving mahebourg weather data\n",
      "Retrieving boshnyakovo weather data\n",
      "Retrieving waingapu weather data\n",
      "Retrieving tazovskiy weather data\n",
      "Retrieving sangar weather data\n",
      "Retrieving bandarbeyla weather data\n",
      "Retrieving souillac weather data\n",
      "Retrieving omboue weather data\n",
      "Retrieving neuquen weather data\n",
      "Retrieving stykkisholmur weather data\n",
      "Retrieving abha weather data\n",
      "Retrieving mirnyy weather data\n",
      "Retrieving owando weather data\n",
      "Retrieving vao weather data\n",
      "Retrieving harwich weather data\n",
      "Retrieving fomboni weather data\n",
      "Retrieving manbij weather data\n",
      "Retrieving viedma weather data\n",
      "Retrieving andra weather data\n",
      "Retrieving carnarvon weather data\n",
      "Retrieving zaranj weather data\n",
      "City not found.  Skipping and going to next city.\n",
      "Retrieving russell weather data\n",
      "Retrieving katherine weather data\n",
      "Retrieving floro weather data\n",
      "Retrieving maxixe weather data\n",
      "Retrieving bayan weather data\n",
      "Retrieving nefteyugansk weather data\n",
      "Retrieving sitka weather data\n",
      "Retrieving codajas weather data\n",
      "Retrieving kysyl-syr weather data\n",
      "City not found.  Skipping and going to next city.\n",
      "Retrieving sinnamary weather data\n",
      "Retrieving bubaque weather data\n",
      "Retrieving bassila weather data\n",
      "Retrieving san quintin weather data\n",
      "Retrieving tarm weather data\n",
      "Retrieving kameoka weather data\n",
      "Retrieving naze weather data\n",
      "Retrieving gobabis weather data\n",
      "Retrieving boa vista weather data\n",
      "Retrieving patamundai weather data\n",
      "Retrieving coracora weather data\n",
      "City not found.  Skipping and going to next city.\n",
      "Retrieving talcahuano weather data\n",
      "Retrieving vostok weather data\n",
      "Retrieving moen weather data\n",
      "Retrieving katsuura weather data\n",
      "Retrieving champasak weather data\n",
      "City not found.  Skipping and going to next city.\n",
      "Retrieving jeremie weather data\n",
      "Retrieving samarai weather data\n",
      "City not found.  Skipping and going to next city.\n",
      "Retrieving novikovo weather data\n",
      "Retrieving meadow lake weather data\n",
      "Retrieving kismayo weather data\n",
      "Retrieving svetlogorsk weather data\n",
      "Retrieving inta weather data\n",
      "Retrieving hoshcha weather data\n",
      "Retrieving sabzevar weather data\n",
      "Retrieving xining weather data\n",
      "Retrieving vanavara weather data\n",
      "Retrieving tigil weather data\n",
      "Retrieving williams lake weather data\n",
      "Retrieving candido mendes weather data\n",
      "Retrieving balabac weather data\n",
      "Retrieving brewster weather data\n",
      "Retrieving port macquarie weather data\n",
      "Retrieving srednekolymsk weather data\n",
      "Retrieving barra do corda weather data\n",
      "Retrieving puro weather data\n",
      "City not found.  Skipping and going to next city.\n",
      "Retrieving abastumani weather data\n",
      "Retrieving mitsamiouli weather data\n",
      "Retrieving bandikui weather data\n",
      "City not found.  Skipping and going to next city.\n",
      "Retrieving college weather data\n",
      "Retrieving mount gambier weather data\n",
      "Retrieving sao joao da barra weather data\n",
      "Retrieving kosh-agach weather data\n",
      "Retrieving pareora weather data\n",
      "Retrieving victor harbor weather data\n",
      "Retrieving fez weather data\n",
      "Retrieving soyalo weather data\n",
      "Retrieving havre-saint-pierre weather data\n",
      "Retrieving phibun mangsahan weather data\n",
      "Retrieving chiredzi weather data\n",
      "Retrieving constantine weather data\n",
      "Retrieving pa sang weather data\n",
      "Retrieving mus weather data\n",
      "Retrieving sinnai weather data\n",
      "Retrieving requena weather data\n",
      "City not found.  Skipping and going to next city.\n",
      "Retrieving trairi weather data\n",
      "Retrieving homer weather data\n",
      "Retrieving hamada weather data\n",
      "Retrieving sorland weather data\n",
      "Retrieving shahdol weather data\n",
      "Retrieving shihezi weather data\n",
      "Retrieving monrovia weather data\n",
      "Retrieving letlhakeng weather data\n",
      "City not found.  Skipping and going to next city.\n",
      "Retrieving tandlianwala weather data\n",
      "Retrieving kenitra weather data\n",
      "City not found.  Skipping and going to next city.\n",
      "Retrieving itoman weather data\n",
      "Retrieving zeya weather data\n",
      "Retrieving fare weather data\n",
      "Retrieving port-cartier weather data\n",
      "Retrieving sorong weather data\n",
      "Retrieving mecca weather data\n",
      "Retrieving agadez weather data\n",
      "Retrieving yoichi weather data\n",
      "Retrieving magdalena weather data\n",
      "Retrieving pombas weather data\n",
      "Retrieving palmer weather data\n",
      "Retrieving poya weather data\n",
      "Retrieving dunedin weather data\n",
      "Retrieving hualmay weather data\n",
      "Retrieving maniitsoq weather data\n",
      "Retrieving anadyr weather data\n",
      "Retrieving tessalit weather data\n",
      "City not found.  Skipping and going to next city.\n",
      "City not found.  Skipping and going to next city.\n",
      "Retrieving le vauclin weather data\n",
      "Retrieving magnitka weather data\n",
      "Retrieving krasnyy chikoy weather data\n",
      "Retrieving pokaran weather data\n",
      "Retrieving taoudenni weather data\n",
      "Retrieving farsund weather data\n",
      "Retrieving yambio weather data\n",
      "Retrieving tromso weather data\n",
      "Retrieving kiknur weather data\n",
      "Retrieving oranjemund weather data\n",
      "Retrieving konstantinovka weather data\n",
      "Retrieving byron bay weather data\n",
      "Retrieving catemaco weather data\n",
      "Retrieving minbu weather data\n",
      "Retrieving buala weather data\n",
      "Retrieving porto velho weather data\n",
      "Retrieving benguela weather data\n",
      "Retrieving ivanteyevka weather data\n",
      "Retrieving afsin weather data\n",
      "City not found.  Skipping and going to next city.\n",
      "Retrieving kidal weather data\n",
      "Retrieving wajima weather data\n",
      "Retrieving nelson bay weather data\n",
      "Retrieving klaksvik weather data\n",
      "Retrieving narsaq weather data\n",
      "Retrieving le port weather data\n"
     ]
    }
   ],
   "source": [
    "#Request Weather Data on each city in list cities\n",
    "base_url = \"http://api.openweathermap.org/data/2.5/weather?q=\"\n",
    "city_name = []\n",
    "city_lat = []\n",
    "city_temp = []\n",
    "city_humidity = []\n",
    "city_wind_speed = []\n",
    "city_cloudiness = []\n",
    "\n",
    "#Use try/except code to skip broken url's\n",
    "\n",
    "for city in cities:\n",
    "    try:\n",
    "        query_url = base_url + city + \"&appid=\" + weather_api_key\n",
    "        weather_response = requests.get(query_url).json()\n",
    "        city_name.append(weather_response[\"name\"])\n",
    "        city_lat.append(weather_response[\"coord\"][\"lat\"])\n",
    "        city_temp.append(weather_response[\"main\"][\"temp\"])\n",
    "        city_humidity.append(weather_response[\"main\"][\"humidity\"])\n",
    "        city_wind_speed.append(weather_response[\"wind\"][\"speed\"])\n",
    "        city_cloudiness.append(weather_response[\"clouds\"][\"all\"])\n",
    "        print(f\"Retrieving {city} weather data\")\n",
    "    except:\n",
    "        print(f\"City not found.  Skipping and going to next city.\")\n",
    "    pass\n",
    "\n",
    "    \n",
    "\n"
   ]
  },
  {
   "cell_type": "markdown",
   "metadata": {},
   "source": [
    "### Convert Raw Data to DataFrame\n",
    "* Export the city data into a .csv.\n",
    "* Display the DataFrame"
   ]
  },
  {
   "cell_type": "code",
   "execution_count": 4,
   "metadata": {},
   "outputs": [],
   "source": [
    "#Convert City Weather Data into Dictionary\n",
    "city_dict = {\n",
    "    \"City Name\": city_name,\n",
    "    \"Latitude\": city_lat,\n",
    "    \"Temperature\": city_temp,\n",
    "    \"Humidity\": city_humidity,\n",
    "    \"Wind Speed\": city_wind_speed,\n",
    "    \"Cloudiness\": city_cloudiness\n",
    "            }"
   ]
  },
  {
   "cell_type": "code",
   "execution_count": 5,
   "metadata": {},
   "outputs": [
    {
     "data": {
      "text/html": [
       "<div>\n",
       "<style scoped>\n",
       "    .dataframe tbody tr th:only-of-type {\n",
       "        vertical-align: middle;\n",
       "    }\n",
       "\n",
       "    .dataframe tbody tr th {\n",
       "        vertical-align: top;\n",
       "    }\n",
       "\n",
       "    .dataframe thead th {\n",
       "        text-align: right;\n",
       "    }\n",
       "</style>\n",
       "<table border=\"1\" class=\"dataframe\">\n",
       "  <thead>\n",
       "    <tr style=\"text-align: right;\">\n",
       "      <th></th>\n",
       "      <th>City Name</th>\n",
       "      <th>Latitude</th>\n",
       "      <th>Temperature</th>\n",
       "      <th>Humidity</th>\n",
       "      <th>Wind Speed</th>\n",
       "      <th>Cloudiness</th>\n",
       "    </tr>\n",
       "  </thead>\n",
       "  <tbody>\n",
       "    <tr>\n",
       "      <th>0</th>\n",
       "      <td>Atuona</td>\n",
       "      <td>-9.80</td>\n",
       "      <td>299.15</td>\n",
       "      <td>76</td>\n",
       "      <td>7.62</td>\n",
       "      <td>12</td>\n",
       "    </tr>\n",
       "    <tr>\n",
       "      <th>1</th>\n",
       "      <td>Brae</td>\n",
       "      <td>60.40</td>\n",
       "      <td>282.15</td>\n",
       "      <td>81</td>\n",
       "      <td>6.70</td>\n",
       "      <td>37</td>\n",
       "    </tr>\n",
       "    <tr>\n",
       "      <th>2</th>\n",
       "      <td>Rikitea</td>\n",
       "      <td>-23.12</td>\n",
       "      <td>298.58</td>\n",
       "      <td>67</td>\n",
       "      <td>1.69</td>\n",
       "      <td>4</td>\n",
       "    </tr>\n",
       "    <tr>\n",
       "      <th>3</th>\n",
       "      <td>Namie</td>\n",
       "      <td>37.48</td>\n",
       "      <td>274.82</td>\n",
       "      <td>69</td>\n",
       "      <td>2.35</td>\n",
       "      <td>56</td>\n",
       "    </tr>\n",
       "    <tr>\n",
       "      <th>4</th>\n",
       "      <td>Ushuaia</td>\n",
       "      <td>-54.80</td>\n",
       "      <td>278.15</td>\n",
       "      <td>93</td>\n",
       "      <td>14.40</td>\n",
       "      <td>75</td>\n",
       "    </tr>\n",
       "  </tbody>\n",
       "</table>\n",
       "</div>"
      ],
      "text/plain": [
       "  City Name  Latitude  Temperature  Humidity  Wind Speed  Cloudiness\n",
       "0    Atuona     -9.80       299.15        76        7.62          12\n",
       "1      Brae     60.40       282.15        81        6.70          37\n",
       "2   Rikitea    -23.12       298.58        67        1.69           4\n",
       "3     Namie     37.48       274.82        69        2.35          56\n",
       "4   Ushuaia    -54.80       278.15        93       14.40          75"
      ]
     },
     "execution_count": 5,
     "metadata": {},
     "output_type": "execute_result"
    }
   ],
   "source": [
    "#Convert City Dictionary into a Dataframe\n",
    "city_df = pd.DataFrame(city_dict)\n",
    "city_df.head()"
   ]
  },
  {
   "cell_type": "code",
   "execution_count": 6,
   "metadata": {},
   "outputs": [],
   "source": [
    "#Save City Dataframe as a CSV File in output_data directory\n",
    "city_df.to_csv(\"output_data/cities.csv\")"
   ]
  },
  {
   "cell_type": "markdown",
   "metadata": {},
   "source": [
    "## Inspect the data and remove the cities where the humidity > 100%.\n",
    "----\n",
    "Skip this step if there are no cities that have humidity > 100%. "
   ]
  },
  {
   "cell_type": "code",
   "execution_count": 7,
   "metadata": {},
   "outputs": [
    {
     "data": {
      "text/plain": [
       "0"
      ]
     },
     "execution_count": 7,
     "metadata": {},
     "output_type": "execute_result"
    }
   ],
   "source": [
    "#  Check for cities with Humidity over 100%\n",
    "humid_check_df = city_df[city_df[\"Humidity\"] > 100]\n",
    "len(humid_check_df)"
   ]
  },
  {
   "cell_type": "markdown",
   "metadata": {},
   "source": [
    "## Plotting the Data\n",
    "* Use proper labeling of the plots using plot titles (including date of analysis) and axes labels.\n",
    "* Save the plotted figures as .pngs."
   ]
  },
  {
   "cell_type": "markdown",
   "metadata": {},
   "source": [
    "## Latitude vs. Temperature Plot"
   ]
  },
  {
   "cell_type": "code",
   "execution_count": 8,
   "metadata": {
    "scrolled": true
   },
   "outputs": [
    {
     "data": {
      "image/png": "[encoded data removed]",
      "text/plain": [
       "<Figure size 432x288 with 1 Axes>"
      ]
     },
     "metadata": {
      "needs_background": "light"
     },
     "output_type": "display_data"
    }
   ],
   "source": [
    "#Plot City Latitude vs. City Temperature and Save as PNG File\n",
    "plt.scatter(city_df[\"Latitude\"], city_df[\"Temperature\"], marker = \"o\")\n",
    "plt.savefig(\"output_data/latitude_temperature.png\")\n",
    "plt.show()"
   ]
  },
  {
   "cell_type": "code",
   "execution_count": 9,
   "metadata": {},
   "outputs": [
    {
     "data": {
      "image/png": "[encoded data removed]",
      "text/plain": [
       "<Figure size 432x288 with 1 Axes>"
      ]
     },
     "metadata": {
      "needs_background": "light"
     },
     "output_type": "display_data"
    }
   ],
   "source": [
    "#Plot City Latitude vs. City Humidity and save as PNG File\n",
    "plt.scatter(city_df[\"Latitude\"], city_df[\"Humidity\"], marker = \"o\")\n",
    "plt.savefig(\"output_data/latitude_humidity.png\")\n",
    "plt.show()"
   ]
  },
  {
   "cell_type": "code",
   "execution_count": 10,
   "metadata": {},
   "outputs": [
    {
     "data": {
      "image/png": "[encoded data removed]",
      "text/plain": [
       "<Figure size 432x288 with 1 Axes>"
      ]
     },
     "metadata": {
      "needs_background": "light"
     },
     "output_type": "display_data"
    }
   ],
   "source": [
    "#Plot City Latitude vs. City Cloudiness and save as PNG File\n",
    "plt.scatter(city_df[\"Latitude\"], city_df[\"Cloudiness\"], marker = \"o\")\n",
    "plt.savefig(\"output_data/latitude_cloudiness.png\")\n",
    "plt.show()"
   ]
  },
  {
   "cell_type": "code",
   "execution_count": 11,
   "metadata": {
    "scrolled": false
   },
   "outputs": [
    {
     "data": {
      "image/png": "[encoded data removed]",
      "text/plain": [
       "<Figure size 432x288 with 1 Axes>"
      ]
     },
     "metadata": {
      "needs_background": "light"
     },
     "output_type": "display_data"
    }
   ],
   "source": [
    "#Plot City Latitude vs. City Windspeed and save as PNG File\n",
    "plt.scatter(city_df[\"Latitude\"], city_df[\"Wind Speed\"], marker = \"o\")\n",
    "plt.savefig(\"output_data/latitude_windspeed.png\")\n",
    "plt.show()"
   ]
  },
  {
   "cell_type": "markdown",
   "metadata": {},
   "source": [
    "Linear Regression"
   ]
  },
  {
   "cell_type": "code",
   "execution_count": 15,
   "metadata": {},
   "outputs": [
    {
     "data": {
      "text/html": [
       "<div>\n",
       "<style scoped>\n",
       "    .dataframe tbody tr th:only-of-type {\n",
       "        vertical-align: middle;\n",
       "    }\n",
       "\n",
       "    .dataframe tbody tr th {\n",
       "        vertical-align: top;\n",
       "    }\n",
       "\n",
       "    .dataframe thead th {\n",
       "        text-align: right;\n",
       "    }\n",
       "</style>\n",
       "<table border=\"1\" class=\"dataframe\">\n",
       "  <thead>\n",
       "    <tr style=\"text-align: right;\">\n",
       "      <th></th>\n",
       "      <th>City Name</th>\n",
       "      <th>Latitude</th>\n",
       "      <th>Temperature</th>\n",
       "      <th>Humidity</th>\n",
       "      <th>Wind Speed</th>\n",
       "      <th>Cloudiness</th>\n",
       "    </tr>\n",
       "  </thead>\n",
       "  <tbody>\n",
       "    <tr>\n",
       "      <th>1</th>\n",
       "      <td>Brae</td>\n",
       "      <td>60.40</td>\n",
       "      <td>282.15</td>\n",
       "      <td>81</td>\n",
       "      <td>6.70</td>\n",
       "      <td>37</td>\n",
       "    </tr>\n",
       "    <tr>\n",
       "      <th>3</th>\n",
       "      <td>Namie</td>\n",
       "      <td>37.48</td>\n",
       "      <td>274.82</td>\n",
       "      <td>69</td>\n",
       "      <td>2.35</td>\n",
       "      <td>56</td>\n",
       "    </tr>\n",
       "    <tr>\n",
       "      <th>5</th>\n",
       "      <td>Shahrud</td>\n",
       "      <td>36.42</td>\n",
       "      <td>273.69</td>\n",
       "      <td>81</td>\n",
       "      <td>0.41</td>\n",
       "      <td>100</td>\n",
       "    </tr>\n",
       "    <tr>\n",
       "      <th>6</th>\n",
       "      <td>Albany</td>\n",
       "      <td>42.60</td>\n",
       "      <td>269.49</td>\n",
       "      <td>38</td>\n",
       "      <td>1.34</td>\n",
       "      <td>40</td>\n",
       "    </tr>\n",
       "    <tr>\n",
       "      <th>7</th>\n",
       "      <td>Torbay</td>\n",
       "      <td>47.67</td>\n",
       "      <td>273.18</td>\n",
       "      <td>88</td>\n",
       "      <td>16.50</td>\n",
       "      <td>75</td>\n",
       "    </tr>\n",
       "  </tbody>\n",
       "</table>\n",
       "</div>"
      ],
      "text/plain": [
       "  City Name  Latitude  Temperature  Humidity  Wind Speed  Cloudiness\n",
       "1      Brae     60.40       282.15        81        6.70          37\n",
       "3     Namie     37.48       274.82        69        2.35          56\n",
       "5   Shahrud     36.42       273.69        81        0.41         100\n",
       "6    Albany     42.60       269.49        38        1.34          40\n",
       "7    Torbay     47.67       273.18        88       16.50          75"
      ]
     },
     "execution_count": 15,
     "metadata": {},
     "output_type": "execute_result"
    }
   ],
   "source": [
    "#Create Northern Hemisphere Dataframe\n",
    "northern_df = city_df[city_df[\"Latitude\"] >= 0]\n",
    "northern_df.head()"
   ]
  },
  {
   "cell_type": "code",
   "execution_count": 16,
   "metadata": {
    "scrolled": true
   },
   "outputs": [
    {
     "data": {
      "text/html": [
       "<div>\n",
       "<style scoped>\n",
       "    .dataframe tbody tr th:only-of-type {\n",
       "        vertical-align: middle;\n",
       "    }\n",
       "\n",
       "    .dataframe tbody tr th {\n",
       "        vertical-align: top;\n",
       "    }\n",
       "\n",
       "    .dataframe thead th {\n",
       "        text-align: right;\n",
       "    }\n",
       "</style>\n",
       "<table border=\"1\" class=\"dataframe\">\n",
       "  <thead>\n",
       "    <tr style=\"text-align: right;\">\n",
       "      <th></th>\n",
       "      <th>City Name</th>\n",
       "      <th>Latitude</th>\n",
       "      <th>Temperature</th>\n",
       "      <th>Humidity</th>\n",
       "      <th>Wind Speed</th>\n",
       "      <th>Cloudiness</th>\n",
       "    </tr>\n",
       "  </thead>\n",
       "  <tbody>\n",
       "    <tr>\n",
       "      <th>0</th>\n",
       "      <td>Atuona</td>\n",
       "      <td>-9.80</td>\n",
       "      <td>299.15</td>\n",
       "      <td>76</td>\n",
       "      <td>7.62</td>\n",
       "      <td>12</td>\n",
       "    </tr>\n",
       "    <tr>\n",
       "      <th>2</th>\n",
       "      <td>Rikitea</td>\n",
       "      <td>-23.12</td>\n",
       "      <td>298.58</td>\n",
       "      <td>67</td>\n",
       "      <td>1.69</td>\n",
       "      <td>4</td>\n",
       "    </tr>\n",
       "    <tr>\n",
       "      <th>4</th>\n",
       "      <td>Ushuaia</td>\n",
       "      <td>-54.80</td>\n",
       "      <td>278.15</td>\n",
       "      <td>93</td>\n",
       "      <td>14.40</td>\n",
       "      <td>75</td>\n",
       "    </tr>\n",
       "    <tr>\n",
       "      <th>8</th>\n",
       "      <td>Kupang</td>\n",
       "      <td>-10.17</td>\n",
       "      <td>300.15</td>\n",
       "      <td>94</td>\n",
       "      <td>1.50</td>\n",
       "      <td>75</td>\n",
       "    </tr>\n",
       "    <tr>\n",
       "      <th>11</th>\n",
       "      <td>Poum</td>\n",
       "      <td>-20.23</td>\n",
       "      <td>299.74</td>\n",
       "      <td>70</td>\n",
       "      <td>2.83</td>\n",
       "      <td>0</td>\n",
       "    </tr>\n",
       "  </tbody>\n",
       "</table>\n",
       "</div>"
      ],
      "text/plain": [
       "   City Name  Latitude  Temperature  Humidity  Wind Speed  Cloudiness\n",
       "0     Atuona     -9.80       299.15        76        7.62          12\n",
       "2    Rikitea    -23.12       298.58        67        1.69           4\n",
       "4    Ushuaia    -54.80       278.15        93       14.40          75\n",
       "8     Kupang    -10.17       300.15        94        1.50          75\n",
       "11      Poum    -20.23       299.74        70        2.83           0"
      ]
     },
     "execution_count": 16,
     "metadata": {},
     "output_type": "execute_result"
    }
   ],
   "source": [
    "#Create Southern Hemisphere Dataframe\n",
    "southern_df = city_df[city_df[\"Latitude\"] < 0]\n",
    "southern_df.head()"
   ]
  },
  {
   "cell_type": "code",
   "execution_count": 18,
   "metadata": {},
   "outputs": [
    {
     "data": {
      "image/png": "[encoded data removed]",
      "text/plain": [
       "<Figure size 432x288 with 1 Axes>"
      ]
     },
     "metadata": {
      "needs_background": "light"
     },
     "output_type": "display_data"
    }
   ],
   "source": [
    "#Northern Hemisphere - Temperature vs. Latitude Linear Regression\n",
    "x_values = northern_df[\"Latitude\"]\n",
    "y_values = northern_df[\"Temperature\"]\n",
    "(slope, intercept, rvalue, pvalue, stderr) = linregress(x_values, y_values)\n",
    "line_eq = \"y= \" + str(round(slope,2)) + \"x + \" + str(round(intercept,2))\n",
    "plt.scatter(x_values, y_values)\n",
    "plt.annotate(line_eq, (6,10), fontsize = 10, color = \"red\")\n",
    "plt.xlabel(\"Latitude\")\n",
    "plt.ylabel(\"Temperature\")\n",
    "plt.show()"
   ]
  },
  {
   "cell_type": "markdown",
   "metadata": {},
   "source": [
    "####  Southern Hemisphere - Max Temp vs. Latitude Linear Regression"
   ]
  },
  {
   "cell_type": "code",
   "execution_count": 19,
   "metadata": {},
   "outputs": [
    {
     "data": {
      "image/png": "[encoded data removed]",
      "text/plain": [
       "<Figure size 432x288 with 1 Axes>"
      ]
     },
     "metadata": {
      "needs_background": "light"
     },
     "output_type": "display_data"
    }
   ],
   "source": [
    "#Southern Hemisphere - Temperature vs. Latitude Linear Regression\n",
    "x_values = southern_df[\"Latitude\"]\n",
    "y_values = southern_df[\"Temperature\"]\n",
    "(slope, intercept, rvalue, pvalue, stderr) = linregress(x_values, y_values)\n",
    "line_eq = \"y= \" + str(round(slope,2)) + \"x + \" + str(round(intercept,2))\n",
    "plt.scatter(x_values, y_values)\n",
    "plt.annotate(line_eq, (6,10), fontsize = 10, color = \"red\")\n",
    "plt.xlabel(\"Latitude\")\n",
    "plt.ylabel(\"Temperature\")\n",
    "plt.show()"
   ]
  },
  {
   "cell_type": "code",
   "execution_count": 20,
   "metadata": {},
   "outputs": [
    {
     "data": {
      "image/png": "[encoded data removed]",
      "text/plain": [
       "<Figure size 432x288 with 1 Axes>"
      ]
     },
     "metadata": {
      "needs_background": "light"
     },
     "output_type": "display_data"
    }
   ],
   "source": [
    "#Northern Hemishere - Humidity vs. Latitude Linear Regression\n",
    "x_values = northern_df[\"Latitude\"]\n",
    "y_values = northern_df[\"Humidity\"]\n",
    "(slope, intercept, rvalue, pvalue, stderr) = linregress(x_values, y_values)\n",
    "line_eq = \"y= \" + str(round(slope,2)) + \"x + \" + str(round(intercept,2))\n",
    "plt.scatter(x_values, y_values)\n",
    "plt.annotate(line_eq, (6,10), fontsize = 10, color = \"red\")\n",
    "plt.xlabel(\"Latitude\")\n",
    "plt.ylabel(\"Humidity\")\n",
    "plt.show()"
   ]
  },
  {
   "cell_type": "code",
   "execution_count": 21,
   "metadata": {},
   "outputs": [
    {
     "data": {
      "image/png": "[encoded data removed]",
      "text/plain": [
       "<Figure size 432x288 with 1 Axes>"
      ]
     },
     "metadata": {
      "needs_background": "light"
     },
     "output_type": "display_data"
    }
   ],
   "source": [
    "#Southern Hemishere - Humidity vs. Latitude Linear Regression\n",
    "x_values = southern_df[\"Latitude\"]\n",
    "y_values = southern_df[\"Humidity\"]\n",
    "(slope, intercept, rvalue, pvalue, stderr) = linregress(x_values, y_values)\n",
    "line_eq = \"y= \" + str(round(slope,2)) + \"x + \" + str(round(intercept,2))\n",
    "plt.scatter(x_values, y_values)\n",
    "plt.annotate(line_eq, (6,10), fontsize = 10, color = \"red\")\n",
    "plt.xlabel(\"Latitude\")\n",
    "plt.ylabel(\"Humidity\")\n",
    "plt.show()"
   ]
  },
  {
   "cell_type": "code",
   "execution_count": 22,
   "metadata": {},
   "outputs": [
    {
     "data": {
      "image/png": "[encoded data removed]",
      "text/plain": [
       "<Figure size 432x288 with 1 Axes>"
      ]
     },
     "metadata": {
      "needs_background": "light"
     },
     "output_type": "display_data"
    }
   ],
   "source": [
    "#Northern Hemisphere - Cloudiness vs. Latitude Linear Regression\n",
    "x_values = northern_df[\"Latitude\"]\n",
    "y_values = northern_df[\"Cloudiness\"]\n",
    "(slope, intercept, rvalue, pvalue, stderr) = linregress(x_values, y_values)\n",
    "line_eq = \"y= \" + str(round(slope,2)) + \"x + \" + str(round(intercept,2))\n",
    "plt.scatter(x_values, y_values)\n",
    "plt.annotate(line_eq, (6,10), fontsize = 10, color = \"red\")\n",
    "plt.xlabel(\"Latitude\")\n",
    "plt.ylabel(\"Cloudiness\")\n",
    "plt.show()"
   ]
  },
  {
   "cell_type": "code",
   "execution_count": 23,
   "metadata": {},
   "outputs": [
    {
     "data": {
      "image/png": "[encoded data removed]",
      "text/plain": [
       "<Figure size 432x288 with 1 Axes>"
      ]
     },
     "metadata": {
      "needs_background": "light"
     },
     "output_type": "display_data"
    }
   ],
   "source": [
    "#Southern Hemisphere - Cloudiness vs. Latitude Linear Regression\n",
    "x_values = southern_df[\"Latitude\"]\n",
    "y_values = southern_df[\"Cloudiness\"]\n",
    "(slope, intercept, rvalue, pvalue, stderr) = linregress(x_values, y_values)\n",
    "line_eq = \"y= \" + str(round(slope,2)) + \"x + \" + str(round(intercept,2))\n",
    "plt.scatter(x_values, y_values)\n",
    "plt.annotate(line_eq, (6,10), fontsize = 10, color = \"red\")\n",
    "plt.xlabel(\"Latitude\")\n",
    "plt.ylabel(\"Cloudiness\")\n",
    "plt.show()"
   ]
  },
  {
   "cell_type": "code",
   "execution_count": 24,
   "metadata": {},
   "outputs": [
    {
     "data": {
      "image/png": "[encoded data removed]",
      "text/plain": [
       "<Figure size 432x288 with 1 Axes>"
      ]
     },
     "metadata": {
      "needs_background": "light"
     },
     "output_type": "display_data"
    }
   ],
   "source": [
    "#Northern Hemisphere - Wind Speed vs. Latitude Linear Regression\n",
    "x_values = northern_df[\"Latitude\"]\n",
    "y_values = northern_df[\"Wind Speed\"]\n",
    "(slope, intercept, rvalue, pvalue, stderr) = linregress(x_values, y_values)\n",
    "line_eq = \"y= \" + str(round(slope,2)) + \"x + \" + str(round(intercept,2))\n",
    "plt.scatter(x_values, y_values)\n",
    "plt.annotate(line_eq, (6,10), fontsize = 10, color = \"red\")\n",
    "plt.xlabel(\"Latitude\")\n",
    "plt.ylabel(\"Wind Speed\")\n",
    "plt.show()"
   ]
  },
  {
   "cell_type": "code",
   "execution_count": 25,
   "metadata": {},
   "outputs": [
    {
     "data": {
      "image/png": "[encoded data removed]",
      "text/plain": [
       "<Figure size 432x288 with 1 Axes>"
      ]
     },
     "metadata": {
      "needs_background": "light"
     },
     "output_type": "display_data"
    }
   ],
   "source": [
    "#Southern Hemisphere - Wind Speed vs. Latitude Linear Regression\n",
    "x_values = southern_df[\"Latitude\"]\n",
    "y_values = southern_df[\"Wind Speed\"]\n",
    "(slope, intercept, rvalue, pvalue, stderr) = linregress(x_values, y_values)\n",
    "line_eq = \"y= \" + str(round(slope,2)) + \"x + \" + str(round(intercept,2))\n",
    "plt.scatter(x_values, y_values)\n",
    "plt.annotate(line_eq, (6,10), fontsize = 10, color = \"red\")\n",
    "plt.xlabel(\"Latitude\")\n",
    "plt.ylabel(\"Wind Speed\")\n",
    "plt.show()"
   ]
  }
 ],
 "metadata": {
  "anaconda-cloud": {},
  "kernel_info": {
   "name": "python3"
  },
  "kernelspec": {
   "display_name": "Python 3",
   "language": "python",
   "name": "python3"
  },
  "language_info": {
   "codemirror_mode": {
    "name": "ipython",
    "version": 3
   },
   "file_extension": ".py",
   "mimetype": "text/x-python",
   "name": "python",
   "nbconvert_exporter": "python",
   "pygments_lexer": "ipython3",
   "version": "3.8.3"
  },
  "latex_envs": {
   "LaTeX_envs_menu_present": true,
   "autoclose": false,
   "autocomplete": true,
   "bibliofile": "biblio.bib",
   "cite_by": "apalike",
   "current_citInitial": 1,
   "eqLabelWithNumbers": true,
   "eqNumInitial": 1,
   "hotkeys": {
    "equation": "Ctrl-E",
    "itemize": "Ctrl-I"
   },
   "labels_anchors": false,
   "latex_user_defs": false,
   "report_style_numbering": false,
   "user_envs_cfg": false
  },
  "nteract": {
   "version": "0.12.3"
  }
 },
 "nbformat": 4,
 "nbformat_minor": 2
}
